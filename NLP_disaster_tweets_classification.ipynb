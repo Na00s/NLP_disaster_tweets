{
 "cells": [
  {
   "attachments": {},
   "cell_type": "markdown",
   "metadata": {},
   "source": [
    "- The goal of this notebook is to build a model that predicts which tweets are about real disasters and which ones aren't"
   ]
  },
  {
   "attachments": {},
   "cell_type": "markdown",
   "metadata": {},
   "source": [
    "# Loading libraries"
   ]
  },
  {
   "cell_type": "code",
   "execution_count": 1,
   "metadata": {},
   "outputs": [],
   "source": [
    "# import libraries\n",
    "import pandas as pd\n",
    "import numpy as np\n",
    "import plotly.express as px\n",
    "import plotly.graph_objects as go\n",
    "import sklearn \n",
    "import nltk\n",
    "import re\n",
    "import string\n",
    "import seaborn as sns\n",
    "import xgboost\n",
    "import catboost\n",
    "import warnings"
   ]
  },
  {
   "cell_type": "code",
   "execution_count": 2,
   "metadata": {},
   "outputs": [],
   "source": [
    "# import packages from libraries\n",
    "from nltk.corpus import stopwords\n",
    "from sklearn.model_selection import train_test_split\n",
    "from sklearn.linear_model import LogisticRegression\n",
    "from sklearn.naive_bayes import MultinomialNB\n",
    "from sklearn.svm import SVC\n",
    "from sklearn.ensemble import RandomForestClassifier\n",
    "from sklearn.ensemble import GradientBoostingClassifier\n",
    "from catboost import CatBoostClassifier\n",
    "from xgboost import XGBClassifier\n",
    "from sklearn.metrics import accuracy_score, confusion_matrix, classification_report\n",
    "from sklearn.model_selection import GridSearchCV\n",
    "from sklearn.model_selection import ParameterGrid"
   ]
  },
  {
   "cell_type": "code",
   "execution_count": 3,
   "metadata": {},
   "outputs": [
    {
     "name": "stderr",
     "output_type": "stream",
     "text": [
      "[nltk_data] Error loading stopwords: <urlopen error [SSL:\n",
      "[nltk_data]     CERTIFICATE_VERIFY_FAILED] certificate verify failed:\n",
      "[nltk_data]     unable to get local issuer certificate (_ssl.c:1108)>\n"
     ]
    },
    {
     "data": {
      "text/plain": [
       "False"
      ]
     },
     "execution_count": 3,
     "metadata": {},
     "output_type": "execute_result"
    }
   ],
   "source": [
    "nltk.download('stopwords')"
   ]
  },
  {
   "cell_type": "code",
   "execution_count": 4,
   "metadata": {},
   "outputs": [],
   "source": [
    "# ignore warnings\n",
    "warnings.filterwarnings('ignore')"
   ]
  },
  {
   "attachments": {},
   "cell_type": "markdown",
   "metadata": {},
   "source": [
    "# Loading data"
   ]
  },
  {
   "cell_type": "code",
   "execution_count": 5,
   "metadata": {},
   "outputs": [],
   "source": [
    "df = pd.read_csv('/Users/alijanatiidr/Desktop/Prog/Projects/Disaster_tweets_classification/data.csv')"
   ]
  },
  {
   "cell_type": "code",
   "execution_count": 6,
   "metadata": {},
   "outputs": [
    {
     "data": {
      "text/html": [
       "<div>\n",
       "<style scoped>\n",
       "    .dataframe tbody tr th:only-of-type {\n",
       "        vertical-align: middle;\n",
       "    }\n",
       "\n",
       "    .dataframe tbody tr th {\n",
       "        vertical-align: top;\n",
       "    }\n",
       "\n",
       "    .dataframe thead th {\n",
       "        text-align: right;\n",
       "    }\n",
       "</style>\n",
       "<table border=\"1\" class=\"dataframe\">\n",
       "  <thead>\n",
       "    <tr style=\"text-align: right;\">\n",
       "      <th></th>\n",
       "      <th>id</th>\n",
       "      <th>keyword</th>\n",
       "      <th>location</th>\n",
       "      <th>text</th>\n",
       "      <th>target</th>\n",
       "    </tr>\n",
       "  </thead>\n",
       "  <tbody>\n",
       "    <tr>\n",
       "      <th>0</th>\n",
       "      <td>1</td>\n",
       "      <td>NaN</td>\n",
       "      <td>NaN</td>\n",
       "      <td>Our Deeds are the Reason of this #earthquake M...</td>\n",
       "      <td>1</td>\n",
       "    </tr>\n",
       "    <tr>\n",
       "      <th>1</th>\n",
       "      <td>4</td>\n",
       "      <td>NaN</td>\n",
       "      <td>NaN</td>\n",
       "      <td>Forest fire near La Ronge Sask. Canada</td>\n",
       "      <td>1</td>\n",
       "    </tr>\n",
       "    <tr>\n",
       "      <th>2</th>\n",
       "      <td>5</td>\n",
       "      <td>NaN</td>\n",
       "      <td>NaN</td>\n",
       "      <td>All residents asked to 'shelter in place' are ...</td>\n",
       "      <td>1</td>\n",
       "    </tr>\n",
       "    <tr>\n",
       "      <th>3</th>\n",
       "      <td>6</td>\n",
       "      <td>NaN</td>\n",
       "      <td>NaN</td>\n",
       "      <td>13,000 people receive #wildfires evacuation or...</td>\n",
       "      <td>1</td>\n",
       "    </tr>\n",
       "    <tr>\n",
       "      <th>4</th>\n",
       "      <td>7</td>\n",
       "      <td>NaN</td>\n",
       "      <td>NaN</td>\n",
       "      <td>Just got sent this photo from Ruby #Alaska as ...</td>\n",
       "      <td>1</td>\n",
       "    </tr>\n",
       "  </tbody>\n",
       "</table>\n",
       "</div>"
      ],
      "text/plain": [
       "   id keyword location                                               text  \\\n",
       "0   1     NaN      NaN  Our Deeds are the Reason of this #earthquake M...   \n",
       "1   4     NaN      NaN             Forest fire near La Ronge Sask. Canada   \n",
       "2   5     NaN      NaN  All residents asked to 'shelter in place' are ...   \n",
       "3   6     NaN      NaN  13,000 people receive #wildfires evacuation or...   \n",
       "4   7     NaN      NaN  Just got sent this photo from Ruby #Alaska as ...   \n",
       "\n",
       "   target  \n",
       "0       1  \n",
       "1       1  \n",
       "2       1  \n",
       "3       1  \n",
       "4       1  "
      ]
     },
     "execution_count": 6,
     "metadata": {},
     "output_type": "execute_result"
    }
   ],
   "source": [
    "df.head()"
   ]
  },
  {
   "cell_type": "code",
   "execution_count": 7,
   "metadata": {},
   "outputs": [
    {
     "data": {
      "text/html": [
       "<div>\n",
       "<style scoped>\n",
       "    .dataframe tbody tr th:only-of-type {\n",
       "        vertical-align: middle;\n",
       "    }\n",
       "\n",
       "    .dataframe tbody tr th {\n",
       "        vertical-align: top;\n",
       "    }\n",
       "\n",
       "    .dataframe thead th {\n",
       "        text-align: right;\n",
       "    }\n",
       "</style>\n",
       "<table border=\"1\" class=\"dataframe\">\n",
       "  <thead>\n",
       "    <tr style=\"text-align: right;\">\n",
       "      <th></th>\n",
       "      <th>id</th>\n",
       "      <th>keyword</th>\n",
       "      <th>location</th>\n",
       "      <th>text</th>\n",
       "      <th>target</th>\n",
       "    </tr>\n",
       "  </thead>\n",
       "  <tbody>\n",
       "    <tr>\n",
       "      <th>15</th>\n",
       "      <td>23</td>\n",
       "      <td>NaN</td>\n",
       "      <td>NaN</td>\n",
       "      <td>What's up man?</td>\n",
       "      <td>0</td>\n",
       "    </tr>\n",
       "    <tr>\n",
       "      <th>16</th>\n",
       "      <td>24</td>\n",
       "      <td>NaN</td>\n",
       "      <td>NaN</td>\n",
       "      <td>I love fruits</td>\n",
       "      <td>0</td>\n",
       "    </tr>\n",
       "    <tr>\n",
       "      <th>17</th>\n",
       "      <td>25</td>\n",
       "      <td>NaN</td>\n",
       "      <td>NaN</td>\n",
       "      <td>Summer is lovely</td>\n",
       "      <td>0</td>\n",
       "    </tr>\n",
       "    <tr>\n",
       "      <th>18</th>\n",
       "      <td>26</td>\n",
       "      <td>NaN</td>\n",
       "      <td>NaN</td>\n",
       "      <td>My car is so fast</td>\n",
       "      <td>0</td>\n",
       "    </tr>\n",
       "    <tr>\n",
       "      <th>19</th>\n",
       "      <td>28</td>\n",
       "      <td>NaN</td>\n",
       "      <td>NaN</td>\n",
       "      <td>What a goooooooaaaaaal!!!!!!</td>\n",
       "      <td>0</td>\n",
       "    </tr>\n",
       "    <tr>\n",
       "      <th>...</th>\n",
       "      <td>...</td>\n",
       "      <td>...</td>\n",
       "      <td>...</td>\n",
       "      <td>...</td>\n",
       "      <td>...</td>\n",
       "    </tr>\n",
       "    <tr>\n",
       "      <th>7581</th>\n",
       "      <td>10833</td>\n",
       "      <td>wrecked</td>\n",
       "      <td>Lincoln</td>\n",
       "      <td>@engineshed Great atmosphere at the British Li...</td>\n",
       "      <td>0</td>\n",
       "    </tr>\n",
       "    <tr>\n",
       "      <th>7582</th>\n",
       "      <td>10834</td>\n",
       "      <td>wrecked</td>\n",
       "      <td>NaN</td>\n",
       "      <td>Cramer: Iger's 3 words that wrecked Disney's s...</td>\n",
       "      <td>0</td>\n",
       "    </tr>\n",
       "    <tr>\n",
       "      <th>7584</th>\n",
       "      <td>10837</td>\n",
       "      <td>NaN</td>\n",
       "      <td>NaN</td>\n",
       "      <td>These boxes are ready to explode! Exploding Ki...</td>\n",
       "      <td>0</td>\n",
       "    </tr>\n",
       "    <tr>\n",
       "      <th>7587</th>\n",
       "      <td>10841</td>\n",
       "      <td>NaN</td>\n",
       "      <td>NaN</td>\n",
       "      <td>Sirens everywhere!</td>\n",
       "      <td>0</td>\n",
       "    </tr>\n",
       "    <tr>\n",
       "      <th>7593</th>\n",
       "      <td>10848</td>\n",
       "      <td>NaN</td>\n",
       "      <td>NaN</td>\n",
       "      <td>I just heard a really loud bang and everyone i...</td>\n",
       "      <td>0</td>\n",
       "    </tr>\n",
       "  </tbody>\n",
       "</table>\n",
       "<p>4342 rows × 5 columns</p>\n",
       "</div>"
      ],
      "text/plain": [
       "         id  keyword location  \\\n",
       "15       23      NaN      NaN   \n",
       "16       24      NaN      NaN   \n",
       "17       25      NaN      NaN   \n",
       "18       26      NaN      NaN   \n",
       "19       28      NaN      NaN   \n",
       "...     ...      ...      ...   \n",
       "7581  10833  wrecked  Lincoln   \n",
       "7582  10834  wrecked      NaN   \n",
       "7584  10837      NaN      NaN   \n",
       "7587  10841      NaN      NaN   \n",
       "7593  10848      NaN      NaN   \n",
       "\n",
       "                                                   text  target  \n",
       "15                                       What's up man?       0  \n",
       "16                                        I love fruits       0  \n",
       "17                                     Summer is lovely       0  \n",
       "18                                    My car is so fast       0  \n",
       "19                         What a goooooooaaaaaal!!!!!!       0  \n",
       "...                                                 ...     ...  \n",
       "7581  @engineshed Great atmosphere at the British Li...       0  \n",
       "7582  Cramer: Iger's 3 words that wrecked Disney's s...       0  \n",
       "7584  These boxes are ready to explode! Exploding Ki...       0  \n",
       "7587                                 Sirens everywhere!       0  \n",
       "7593  I just heard a really loud bang and everyone i...       0  \n",
       "\n",
       "[4342 rows x 5 columns]"
      ]
     },
     "execution_count": 7,
     "metadata": {},
     "output_type": "execute_result"
    }
   ],
   "source": [
    "df.loc[df['target'] == 0]"
   ]
  },
  {
   "attachments": {},
   "cell_type": "markdown",
   "metadata": {},
   "source": [
    "# Exploring data"
   ]
  },
  {
   "cell_type": "code",
   "execution_count": 8,
   "metadata": {},
   "outputs": [
    {
     "name": "stdout",
     "output_type": "stream",
     "text": [
      "<class 'pandas.core.frame.DataFrame'>\n",
      "RangeIndex: 7613 entries, 0 to 7612\n",
      "Data columns (total 5 columns):\n",
      " #   Column    Non-Null Count  Dtype \n",
      "---  ------    --------------  ----- \n",
      " 0   id        7613 non-null   int64 \n",
      " 1   keyword   7552 non-null   object\n",
      " 2   location  5080 non-null   object\n",
      " 3   text      7613 non-null   object\n",
      " 4   target    7613 non-null   int64 \n",
      "dtypes: int64(2), object(3)\n",
      "memory usage: 297.5+ KB\n"
     ]
    }
   ],
   "source": [
    "# check the columns, their types and missing data\n",
    "df.info()"
   ]
  },
  {
   "cell_type": "code",
   "execution_count": 9,
   "metadata": {},
   "outputs": [
    {
     "data": {
      "text/html": [
       "<div>\n",
       "<style scoped>\n",
       "    .dataframe tbody tr th:only-of-type {\n",
       "        vertical-align: middle;\n",
       "    }\n",
       "\n",
       "    .dataframe tbody tr th {\n",
       "        vertical-align: top;\n",
       "    }\n",
       "\n",
       "    .dataframe thead th {\n",
       "        text-align: right;\n",
       "    }\n",
       "</style>\n",
       "<table border=\"1\" class=\"dataframe\">\n",
       "  <thead>\n",
       "    <tr style=\"text-align: right;\">\n",
       "      <th></th>\n",
       "      <th>text</th>\n",
       "      <th>target</th>\n",
       "    </tr>\n",
       "  </thead>\n",
       "  <tbody>\n",
       "    <tr>\n",
       "      <th>0</th>\n",
       "      <td>Our Deeds are the Reason of this #earthquake M...</td>\n",
       "      <td>1</td>\n",
       "    </tr>\n",
       "    <tr>\n",
       "      <th>1</th>\n",
       "      <td>Forest fire near La Ronge Sask. Canada</td>\n",
       "      <td>1</td>\n",
       "    </tr>\n",
       "    <tr>\n",
       "      <th>2</th>\n",
       "      <td>All residents asked to 'shelter in place' are ...</td>\n",
       "      <td>1</td>\n",
       "    </tr>\n",
       "    <tr>\n",
       "      <th>3</th>\n",
       "      <td>13,000 people receive #wildfires evacuation or...</td>\n",
       "      <td>1</td>\n",
       "    </tr>\n",
       "    <tr>\n",
       "      <th>4</th>\n",
       "      <td>Just got sent this photo from Ruby #Alaska as ...</td>\n",
       "      <td>1</td>\n",
       "    </tr>\n",
       "  </tbody>\n",
       "</table>\n",
       "</div>"
      ],
      "text/plain": [
       "                                                text  target\n",
       "0  Our Deeds are the Reason of this #earthquake M...       1\n",
       "1             Forest fire near La Ronge Sask. Canada       1\n",
       "2  All residents asked to 'shelter in place' are ...       1\n",
       "3  13,000 people receive #wildfires evacuation or...       1\n",
       "4  Just got sent this photo from Ruby #Alaska as ...       1"
      ]
     },
     "execution_count": 9,
     "metadata": {},
     "output_type": "execute_result"
    }
   ],
   "source": [
    "# drop irrelevant columns\n",
    "del df['id']\n",
    "del df['keyword']\n",
    "del df['location']\n",
    "df.head()"
   ]
  },
  {
   "cell_type": "code",
   "execution_count": 10,
   "metadata": {},
   "outputs": [
    {
     "data": {
      "text/plain": [
       "<AxesSubplot: >"
      ]
     },
     "execution_count": 10,
     "metadata": {},
     "output_type": "execute_result"
    },
    {
     "data": {
      "image/png": "[encoded data removed]",
      "text/plain": [
       "<Figure size 640x480 with 2 Axes>"
      ]
     },
     "metadata": {},
     "output_type": "display_data"
    }
   ],
   "source": [
    "# plot missing data as a heatmap\n",
    "sns.heatmap(df.isnull(), yticklabels = False, cmap= 'viridis')"
   ]
  },
  {
   "cell_type": "code",
   "execution_count": 11,
   "metadata": {},
   "outputs": [
    {
     "data": {
      "application/vnd.plotly.v1+json": {
       "config": {
        "plotlyServerURL": "https://plot.ly"
       },
       "data": [
        {
         "labels": [
          "Not a disaster",
          "Disaster"
         ],
         "type": "pie",
         "values": [
          4342,
          3271
         ]
        }
       ],
       "layout": {
        "template": {
         "data": {
          "bar": [
           {
            "error_x": {
             "color": "#2a3f5f"
            },
            "error_y": {
             "color": "#2a3f5f"
            },
            "marker": {
             "line": {
              "color": "#E5ECF6",
              "width": 0.5
             },
             "pattern": {
              "fillmode": "overlay",
              "size": 10,
              "solidity": 0.2
             }
            },
            "type": "bar"
           }
          ],
          "barpolar": [
           {
            "marker": {
             "line": {
              "color": "#E5ECF6",
              "width": 0.5
             },
             "pattern": {
              "fillmode": "overlay",
              "size": 10,
              "solidity": 0.2
             }
            },
            "type": "barpolar"
           }
          ],
          "carpet": [
           {
            "aaxis": {
             "endlinecolor": "#2a3f5f",
             "gridcolor": "white",
             "linecolor": "white",
             "minorgridcolor": "white",
             "startlinecolor": "#2a3f5f"
            },
            "baxis": {
             "endlinecolor": "#2a3f5f",
             "gridcolor": "white",
             "linecolor": "white",
             "minorgridcolor": "white",
             "startlinecolor": "#2a3f5f"
            },
            "type": "carpet"
           }
          ],
          "choropleth": [
           {
            "colorbar": {
             "outlinewidth": 0,
             "ticks": ""
            },
            "type": "choropleth"
           }
          ],
          "contour": [
           {
            "colorbar": {
             "outlinewidth": 0,
             "ticks": ""
            },
            "colorscale": [
             [
              0,
              "#0d0887"
             ],
             [
              0.1111111111111111,
              "#46039f"
             ],
             [
              0.2222222222222222,
              "#7201a8"
             ],
             [
              0.3333333333333333,
              "#9c179e"
             ],
             [
              0.4444444444444444,
              "#bd3786"
             ],
             [
              0.5555555555555556,
              "#d8576b"
             ],
             [
              0.6666666666666666,
              "#ed7953"
             ],
             [
              0.7777777777777778,
              "#fb9f3a"
             ],
             [
              0.8888888888888888,
              "#fdca26"
             ],
             [
              1,
              "#f0f921"
             ]
            ],
            "type": "contour"
           }
          ],
          "contourcarpet": [
           {
            "colorbar": {
             "outlinewidth": 0,
             "ticks": ""
            },
            "type": "contourcarpet"
           }
          ],
          "heatmap": [
           {
            "colorbar": {
             "outlinewidth": 0,
             "ticks": ""
            },
            "colorscale": [
             [
              0,
              "#0d0887"
             ],
             [
              0.1111111111111111,
              "#46039f"
             ],
             [
              0.2222222222222222,
              "#7201a8"
             ],
             [
              0.3333333333333333,
              "#9c179e"
             ],
             [
              0.4444444444444444,
              "#bd3786"
             ],
             [
              0.5555555555555556,
              "#d8576b"
             ],
             [
              0.6666666666666666,
              "#ed7953"
             ],
             [
              0.7777777777777778,
              "#fb9f3a"
             ],
             [
              0.8888888888888888,
              "#fdca26"
             ],
             [
              1,
              "#f0f921"
             ]
            ],
            "type": "heatmap"
           }
          ],
          "heatmapgl": [
           {
            "colorbar": {
             "outlinewidth": 0,
             "ticks": ""
            },
            "colorscale": [
             [
              0,
              "#0d0887"
             ],
             [
              0.1111111111111111,
              "#46039f"
             ],
             [
              0.2222222222222222,
              "#7201a8"
             ],
             [
              0.3333333333333333,
              "#9c179e"
             ],
             [
              0.4444444444444444,
              "#bd3786"
             ],
             [
              0.5555555555555556,
              "#d8576b"
             ],
             [
              0.6666666666666666,
              "#ed7953"
             ],
             [
              0.7777777777777778,
              "#fb9f3a"
             ],
             [
              0.8888888888888888,
              "#fdca26"
             ],
             [
              1,
              "#f0f921"
             ]
            ],
            "type": "heatmapgl"
           }
          ],
          "histogram": [
           {
            "marker": {
             "pattern": {
              "fillmode": "overlay",
              "size": 10,
              "solidity": 0.2
             }
            },
            "type": "histogram"
           }
          ],
          "histogram2d": [
           {
            "colorbar": {
             "outlinewidth": 0,
             "ticks": ""
            },
            "colorscale": [
             [
              0,
              "#0d0887"
             ],
             [
              0.1111111111111111,
              "#46039f"
             ],
             [
              0.2222222222222222,
              "#7201a8"
             ],
             [
              0.3333333333333333,
              "#9c179e"
             ],
             [
              0.4444444444444444,
              "#bd3786"
             ],
             [
              0.5555555555555556,
              "#d8576b"
             ],
             [
              0.6666666666666666,
              "#ed7953"
             ],
             [
              0.7777777777777778,
              "#fb9f3a"
             ],
             [
              0.8888888888888888,
              "#fdca26"
             ],
             [
              1,
              "#f0f921"
             ]
            ],
            "type": "histogram2d"
           }
          ],
          "histogram2dcontour": [
           {
            "colorbar": {
             "outlinewidth": 0,
             "ticks": ""
            },
            "colorscale": [
             [
              0,
              "#0d0887"
             ],
             [
              0.1111111111111111,
              "#46039f"
             ],
             [
              0.2222222222222222,
              "#7201a8"
             ],
             [
              0.3333333333333333,
              "#9c179e"
             ],
             [
              0.4444444444444444,
              "#bd3786"
             ],
             [
              0.5555555555555556,
              "#d8576b"
             ],
             [
              0.6666666666666666,
              "#ed7953"
             ],
             [
              0.7777777777777778,
              "#fb9f3a"
             ],
             [
              0.8888888888888888,
              "#fdca26"
             ],
             [
              1,
              "#f0f921"
             ]
            ],
            "type": "histogram2dcontour"
           }
          ],
          "mesh3d": [
           {
            "colorbar": {
             "outlinewidth": 0,
             "ticks": ""
            },
            "type": "mesh3d"
           }
          ],
          "parcoords": [
           {
            "line": {
             "colorbar": {
              "outlinewidth": 0,
              "ticks": ""
             }
            },
            "type": "parcoords"
           }
          ],
          "pie": [
           {
            "automargin": true,
            "type": "pie"
           }
          ],
          "scatter": [
           {
            "fillpattern": {
             "fillmode": "overlay",
             "size": 10,
             "solidity": 0.2
            },
            "type": "scatter"
           }
          ],
          "scatter3d": [
           {
            "line": {
             "colorbar": {
              "outlinewidth": 0,
              "ticks": ""
             }
            },
            "marker": {
             "colorbar": {
              "outlinewidth": 0,
              "ticks": ""
             }
            },
            "type": "scatter3d"
           }
          ],
          "scattercarpet": [
           {
            "marker": {
             "colorbar": {
              "outlinewidth": 0,
              "ticks": ""
             }
            },
            "type": "scattercarpet"
           }
          ],
          "scattergeo": [
           {
            "marker": {
             "colorbar": {
              "outlinewidth": 0,
              "ticks": ""
             }
            },
            "type": "scattergeo"
           }
          ],
          "scattergl": [
           {
            "marker": {
             "colorbar": {
              "outlinewidth": 0,
              "ticks": ""
             }
            },
            "type": "scattergl"
           }
          ],
          "scattermapbox": [
           {
            "marker": {
             "colorbar": {
              "outlinewidth": 0,
              "ticks": ""
             }
            },
            "type": "scattermapbox"
           }
          ],
          "scatterpolar": [
           {
            "marker": {
             "colorbar": {
              "outlinewidth": 0,
              "ticks": ""
             }
            },
            "type": "scatterpolar"
           }
          ],
          "scatterpolargl": [
           {
            "marker": {
             "colorbar": {
              "outlinewidth": 0,
              "ticks": ""
             }
            },
            "type": "scatterpolargl"
           }
          ],
          "scatterternary": [
           {
            "marker": {
             "colorbar": {
              "outlinewidth": 0,
              "ticks": ""
             }
            },
            "type": "scatterternary"
           }
          ],
          "surface": [
           {
            "colorbar": {
             "outlinewidth": 0,
             "ticks": ""
            },
            "colorscale": [
             [
              0,
              "#0d0887"
             ],
             [
              0.1111111111111111,
              "#46039f"
             ],
             [
              0.2222222222222222,
              "#7201a8"
             ],
             [
              0.3333333333333333,
              "#9c179e"
             ],
             [
              0.4444444444444444,
              "#bd3786"
             ],
             [
              0.5555555555555556,
              "#d8576b"
             ],
             [
              0.6666666666666666,
              "#ed7953"
             ],
             [
              0.7777777777777778,
              "#fb9f3a"
             ],
             [
              0.8888888888888888,
              "#fdca26"
             ],
             [
              1,
              "#f0f921"
             ]
            ],
            "type": "surface"
           }
          ],
          "table": [
           {
            "cells": {
             "fill": {
              "color": "#EBF0F8"
             },
             "line": {
              "color": "white"
             }
            },
            "header": {
             "fill": {
              "color": "#C8D4E3"
             },
             "line": {
              "color": "white"
             }
            },
            "type": "table"
           }
          ]
         },
         "layout": {
          "annotationdefaults": {
           "arrowcolor": "#2a3f5f",
           "arrowhead": 0,
           "arrowwidth": 1
          },
          "autotypenumbers": "strict",
          "coloraxis": {
           "colorbar": {
            "outlinewidth": 0,
            "ticks": ""
           }
          },
          "colorscale": {
           "diverging": [
            [
             0,
             "#8e0152"
            ],
            [
             0.1,
             "#c51b7d"
            ],
            [
             0.2,
             "#de77ae"
            ],
            [
             0.3,
             "#f1b6da"
            ],
            [
             0.4,
             "#fde0ef"
            ],
            [
             0.5,
             "#f7f7f7"
            ],
            [
             0.6,
             "#e6f5d0"
            ],
            [
             0.7,
             "#b8e186"
            ],
            [
             0.8,
             "#7fbc41"
            ],
            [
             0.9,
             "#4d9221"
            ],
            [
             1,
             "#276419"
            ]
           ],
           "sequential": [
            [
             0,
             "#0d0887"
            ],
            [
             0.1111111111111111,
             "#46039f"
            ],
            [
             0.2222222222222222,
             "#7201a8"
            ],
            [
             0.3333333333333333,
             "#9c179e"
            ],
            [
             0.4444444444444444,
             "#bd3786"
            ],
            [
             0.5555555555555556,
             "#d8576b"
            ],
            [
             0.6666666666666666,
             "#ed7953"
            ],
            [
             0.7777777777777778,
             "#fb9f3a"
            ],
            [
             0.8888888888888888,
             "#fdca26"
            ],
            [
             1,
             "#f0f921"
            ]
           ],
           "sequentialminus": [
            [
             0,
             "#0d0887"
            ],
            [
             0.1111111111111111,
             "#46039f"
            ],
            [
             0.2222222222222222,
             "#7201a8"
            ],
            [
             0.3333333333333333,
             "#9c179e"
            ],
            [
             0.4444444444444444,
             "#bd3786"
            ],
            [
             0.5555555555555556,
             "#d8576b"
            ],
            [
             0.6666666666666666,
             "#ed7953"
            ],
            [
             0.7777777777777778,
             "#fb9f3a"
            ],
            [
             0.8888888888888888,
             "#fdca26"
            ],
            [
             1,
             "#f0f921"
            ]
           ]
          },
          "colorway": [
           "#636efa",
           "#EF553B",
           "#00cc96",
           "#ab63fa",
           "#FFA15A",
           "#19d3f3",
           "#FF6692",
           "#B6E880",
           "#FF97FF",
           "#FECB52"
          ],
          "font": {
           "color": "#2a3f5f"
          },
          "geo": {
           "bgcolor": "white",
           "lakecolor": "white",
           "landcolor": "#E5ECF6",
           "showlakes": true,
           "showland": true,
           "subunitcolor": "white"
          },
          "hoverlabel": {
           "align": "left"
          },
          "hovermode": "closest",
          "mapbox": {
           "style": "light"
          },
          "paper_bgcolor": "white",
          "plot_bgcolor": "#E5ECF6",
          "polar": {
           "angularaxis": {
            "gridcolor": "white",
            "linecolor": "white",
            "ticks": ""
           },
           "bgcolor": "#E5ECF6",
           "radialaxis": {
            "gridcolor": "white",
            "linecolor": "white",
            "ticks": ""
           }
          },
          "scene": {
           "xaxis": {
            "backgroundcolor": "#E5ECF6",
            "gridcolor": "white",
            "gridwidth": 2,
            "linecolor": "white",
            "showbackground": true,
            "ticks": "",
            "zerolinecolor": "white"
           },
           "yaxis": {
            "backgroundcolor": "#E5ECF6",
            "gridcolor": "white",
            "gridwidth": 2,
            "linecolor": "white",
            "showbackground": true,
            "ticks": "",
            "zerolinecolor": "white"
           },
           "zaxis": {
            "backgroundcolor": "#E5ECF6",
            "gridcolor": "white",
            "gridwidth": 2,
            "linecolor": "white",
            "showbackground": true,
            "ticks": "",
            "zerolinecolor": "white"
           }
          },
          "shapedefaults": {
           "line": {
            "color": "#2a3f5f"
           }
          },
          "ternary": {
           "aaxis": {
            "gridcolor": "white",
            "linecolor": "white",
            "ticks": ""
           },
           "baxis": {
            "gridcolor": "white",
            "linecolor": "white",
            "ticks": ""
           },
           "bgcolor": "#E5ECF6",
           "caxis": {
            "gridcolor": "white",
            "linecolor": "white",
            "ticks": ""
           }
          },
          "title": {
           "x": 0.05
          },
          "xaxis": {
           "automargin": true,
           "gridcolor": "white",
           "linecolor": "white",
           "ticks": "",
           "title": {
            "standoff": 15
           },
           "zerolinecolor": "white",
           "zerolinewidth": 2
          },
          "yaxis": {
           "automargin": true,
           "gridcolor": "white",
           "linecolor": "white",
           "ticks": "",
           "title": {
            "standoff": 15
           },
           "zerolinecolor": "white",
           "zerolinewidth": 2
          }
         }
        },
        "title": {
         "text": "Distribution of the target variable"
        }
       }
      }
     },
     "metadata": {},
     "output_type": "display_data"
    }
   ],
   "source": [
    "# plot the distribution of the target variable in a pie chart\n",
    "fig = go.Figure(data=[go.Pie(labels=['Not a disaster', 'Disaster'], values=df['target'].value_counts())])\n",
    "fig.update_layout(title_text='Distribution of the target variable')\n",
    "fig.show()"
   ]
  },
  {
   "attachments": {},
   "cell_type": "markdown",
   "metadata": {},
   "source": [
    "# Preparing data"
   ]
  },
  {
   "attachments": {},
   "cell_type": "markdown",
   "metadata": {},
   "source": [
    "# Implementing helpers functions"
   ]
  },
  {
   "cell_type": "code",
   "execution_count": 12,
   "metadata": {},
   "outputs": [],
   "source": [
    "# Create a function that processes the tweets by removing stopwords, removing urls, lowercasing, tokenizing and stemming them\n",
    "def process_tweet(tweet):\n",
    "    # remove stopwords\n",
    "    stop_words = set(stopwords.words('english'))\n",
    "    tweet = ' '.join([word for word in tweet.split() if word not in stop_words])\n",
    "    # remove urls\n",
    "    tweet = re.sub(r\"http\\S+\", \"\", tweet)\n",
    "    # remove punctuation\n",
    "    tweet = tweet.translate(str.maketrans('', '', string.punctuation))\n",
    "    # lowercase\n",
    "    tweet = tweet.lower()\n",
    "    # tokenize\n",
    "    tweet = tweet.split()\n",
    "    # stem\n",
    "    ps = nltk.PorterStemmer()\n",
    "    tweet = [ps.stem(word) for word in tweet]\n",
    "    tweet = ' '.join(tweet)\n",
    "    return tweet"
   ]
  },
  {
   "cell_type": "code",
   "execution_count": 13,
   "metadata": {},
   "outputs": [
    {
     "data": {
      "text/plain": [
       "'i student univers tehran'"
      ]
     },
     "execution_count": 13,
     "metadata": {},
     "output_type": "execute_result"
    }
   ],
   "source": [
    "# testing the function with a random tweet\n",
    "process_tweet('I am a student at the University of Tehran')"
   ]
  },
  {
   "cell_type": "code",
   "execution_count": 14,
   "metadata": {},
   "outputs": [],
   "source": [
    "# creating function that creates a dictionary of words and their frequencies depending on the target variable\n",
    "def build_freqs(tweets, ys):\n",
    "    yslist = np.squeeze(ys).tolist()\n",
    "    freqs = {}\n",
    "    for y, tweet in zip(yslist, tweets):\n",
    "        for word in process_tweet(tweet):\n",
    "            pair = (word, y)\n",
    "            if pair in freqs:\n",
    "                freqs[pair] += 1\n",
    "            else:\n",
    "                freqs[pair] = 1\n",
    "    return freqs"
   ]
  },
  {
   "cell_type": "code",
   "execution_count": 15,
   "metadata": {},
   "outputs": [],
   "source": [
    "# creating frequency dictionary for the train set\n",
    "freqs = build_freqs(df['text'], df['target'])"
   ]
  },
  {
   "cell_type": "code",
   "execution_count": 16,
   "metadata": {},
   "outputs": [],
   "source": [
    "# creating a function that extracts features from the tweets\n",
    "def extract_features(tweet, freqs):\n",
    "    word_l = process_tweet(tweet)\n",
    "    x = np.zeros((1, 3))\n",
    "    x[0,0] = 1 # bias term\n",
    "    for word in word_l:\n",
    "        x[0,1] += freqs.get((word, 1.0), 0) # count of positive words\n",
    "        x[0,2] += freqs.get((word, 0.0), 0) # count of negative words\n",
    "    assert(x.shape == (1, 3))\n",
    "    return x"
   ]
  },
  {
   "cell_type": "code",
   "execution_count": 17,
   "metadata": {},
   "outputs": [
    {
     "data": {
      "text/plain": [
       "array([[1.00000e+00, 3.37093e+05, 4.01132e+05]])"
      ]
     },
     "execution_count": 17,
     "metadata": {},
     "output_type": "execute_result"
    }
   ],
   "source": [
    "# testing the function with a random tweet\n",
    "extract_features('I am a student at the University of Tehran', freqs)"
   ]
  },
  {
   "attachments": {},
   "cell_type": "markdown",
   "metadata": {},
   "source": [
    "# Parsing data"
   ]
  },
  {
   "cell_type": "code",
   "execution_count": 18,
   "metadata": {},
   "outputs": [],
   "source": [
    "train_df, val_df = train_test_split(df, test_size=0.2, stratify=df['target'], random_state=42)"
   ]
  },
  {
   "cell_type": "code",
   "execution_count": 19,
   "metadata": {},
   "outputs": [],
   "source": [
    "val_df, test_df = train_test_split(val_df, test_size=0.5, stratify=val_df['target'], random_state=42)"
   ]
  },
  {
   "cell_type": "code",
   "execution_count": 20,
   "metadata": {},
   "outputs": [],
   "source": [
    "freqs = build_freqs(train_df['text'], train_df['target'])"
   ]
  },
  {
   "cell_type": "code",
   "execution_count": 21,
   "metadata": {},
   "outputs": [],
   "source": [
    "# vectorizing tweets using the frequency dictionary for the train set\n",
    "processed_X_train = [process_tweet(tweet) for tweet in train_df['text']]\n",
    "X_vectors = np.zeros((len(processed_X_train), 3))\n",
    "for i in range(len(processed_X_train)):\n",
    "    for word in processed_X_train[i]:\n",
    "        X_vectors[i, 0] = 1 # bias term\n",
    "        X_vectors[i, 1] += freqs.get((word, 1), 0)\n",
    "        X_vectors[i, 2] += freqs.get((word, 0), 0)\n",
    "\n",
    "x_train = X_vectors\n",
    "y_train = train_df['target']\n",
    "\n",
    "# vectorizing tweets using the frequency dictionary for the validation set\n",
    "processed_X_val = [process_tweet(tweet) for tweet in val_df['text']]\n",
    "X_vectors = np.zeros((len(processed_X_val), 3))\n",
    "for i in range(len(processed_X_val)):\n",
    "    for word in processed_X_val[i]:\n",
    "        X_vectors[i, 0] = 1 # bias term\n",
    "        X_vectors[i, 1] += freqs.get((word, 1), 0)\n",
    "        X_vectors[i, 2] += freqs.get((word, 0), 0)\n",
    "\n",
    "x_val = X_vectors\n",
    "y_val = val_df['target']\n",
    "\n",
    "# vectorizing tweets using the frequency dictionary for the test set\n",
    "processed_X_test = [process_tweet(tweet) for tweet in test_df['text']]\n",
    "X_vectors = np.zeros((len(processed_X_test), 3))\n",
    "for i in range(len(processed_X_test)):\n",
    "    for word in processed_X_test[i]:\n",
    "        X_vectors[i, 0] = 1 # bias term\n",
    "        X_vectors[i, 1] += freqs.get((word, 1), 0)\n",
    "        X_vectors[i, 2] += freqs.get((word, 0), 0)\n",
    "\n",
    "x_test = X_vectors\n",
    "y_test = test_df['target']"
   ]
  },
  {
   "cell_type": "code",
   "execution_count": 22,
   "metadata": {},
   "outputs": [
    {
     "data": {
      "text/plain": [
       "((6090, 3), (6090,), (762, 3), (762,), (761, 3), (761,))"
      ]
     },
     "execution_count": 22,
     "metadata": {},
     "output_type": "execute_result"
    }
   ],
   "source": [
    "x_train.shape, y_train.shape, x_test.shape, y_test.shape, x_val.shape, y_val.shape"
   ]
  },
  {
   "attachments": {},
   "cell_type": "markdown",
   "metadata": {},
   "source": [
    "# Modelizing"
   ]
  },
  {
   "attachments": {},
   "cell_type": "markdown",
   "metadata": {},
   "source": [
    "## Built in models"
   ]
  },
  {
   "cell_type": "code",
   "execution_count": 23,
   "metadata": {},
   "outputs": [
    {
     "name": "stdout",
     "output_type": "stream",
     "text": [
      "Learning rate set to 0.022283\n",
      "0:\tlearn: 0.6920307\ttotal: 56.8ms\tremaining: 56.8s\n",
      "1:\tlearn: 0.6909109\ttotal: 58.4ms\tremaining: 29.2s\n",
      "2:\tlearn: 0.6898629\ttotal: 59.9ms\tremaining: 19.9s\n",
      "3:\tlearn: 0.6888039\ttotal: 61.4ms\tremaining: 15.3s\n",
      "4:\tlearn: 0.6879212\ttotal: 62.4ms\tremaining: 12.4s\n",
      "5:\tlearn: 0.6870309\ttotal: 63.8ms\tremaining: 10.6s\n",
      "6:\tlearn: 0.6860919\ttotal: 65.3ms\tremaining: 9.26s\n",
      "7:\tlearn: 0.6852368\ttotal: 66.7ms\tremaining: 8.27s\n",
      "8:\tlearn: 0.6843786\ttotal: 68.2ms\tremaining: 7.51s\n",
      "9:\tlearn: 0.6835380\ttotal: 69.7ms\tremaining: 6.89s\n",
      "10:\tlearn: 0.6827604\ttotal: 71.1ms\tremaining: 6.39s\n",
      "11:\tlearn: 0.6819757\ttotal: 72.7ms\tremaining: 5.99s\n",
      "12:\tlearn: 0.6812957\ttotal: 74.2ms\tremaining: 5.64s\n",
      "13:\tlearn: 0.6806722\ttotal: 75.6ms\tremaining: 5.33s\n",
      "14:\tlearn: 0.6800032\ttotal: 77ms\tremaining: 5.06s\n",
      "15:\tlearn: 0.6793432\ttotal: 78.5ms\tremaining: 4.83s\n",
      "16:\tlearn: 0.6786325\ttotal: 80ms\tremaining: 4.63s\n",
      "17:\tlearn: 0.6781349\ttotal: 80.9ms\tremaining: 4.41s\n",
      "18:\tlearn: 0.6775114\ttotal: 82.3ms\tremaining: 4.25s\n",
      "19:\tlearn: 0.6770477\ttotal: 83.7ms\tremaining: 4.1s\n",
      "20:\tlearn: 0.6765416\ttotal: 85.2ms\tremaining: 3.97s\n",
      "21:\tlearn: 0.6761090\ttotal: 86.5ms\tremaining: 3.85s\n",
      "22:\tlearn: 0.6756122\ttotal: 88.1ms\tremaining: 3.74s\n",
      "23:\tlearn: 0.6751574\ttotal: 89.8ms\tremaining: 3.65s\n",
      "24:\tlearn: 0.6747409\ttotal: 91.3ms\tremaining: 3.56s\n",
      "25:\tlearn: 0.6743388\ttotal: 92.8ms\tremaining: 3.48s\n",
      "26:\tlearn: 0.6739693\ttotal: 94.2ms\tremaining: 3.39s\n",
      "27:\tlearn: 0.6735514\ttotal: 95.6ms\tremaining: 3.32s\n",
      "28:\tlearn: 0.6732158\ttotal: 97.1ms\tremaining: 3.25s\n",
      "29:\tlearn: 0.6728604\ttotal: 98.5ms\tremaining: 3.19s\n",
      "30:\tlearn: 0.6725153\ttotal: 100ms\tremaining: 3.13s\n",
      "31:\tlearn: 0.6721712\ttotal: 101ms\tremaining: 3.07s\n",
      "32:\tlearn: 0.6718906\ttotal: 103ms\tremaining: 3.02s\n",
      "33:\tlearn: 0.6715917\ttotal: 105ms\tremaining: 2.97s\n",
      "34:\tlearn: 0.6713079\ttotal: 106ms\tremaining: 2.93s\n",
      "35:\tlearn: 0.6710312\ttotal: 108ms\tremaining: 2.88s\n",
      "36:\tlearn: 0.6708017\ttotal: 109ms\tremaining: 2.84s\n",
      "37:\tlearn: 0.6704809\ttotal: 111ms\tremaining: 2.8s\n",
      "38:\tlearn: 0.6701986\ttotal: 112ms\tremaining: 2.76s\n",
      "39:\tlearn: 0.6699727\ttotal: 113ms\tremaining: 2.72s\n",
      "40:\tlearn: 0.6697118\ttotal: 115ms\tremaining: 2.69s\n",
      "41:\tlearn: 0.6695018\ttotal: 116ms\tremaining: 2.65s\n",
      "42:\tlearn: 0.6693208\ttotal: 118ms\tremaining: 2.62s\n",
      "43:\tlearn: 0.6691346\ttotal: 119ms\tremaining: 2.59s\n",
      "44:\tlearn: 0.6688568\ttotal: 121ms\tremaining: 2.56s\n",
      "45:\tlearn: 0.6686698\ttotal: 122ms\tremaining: 2.53s\n",
      "46:\tlearn: 0.6684672\ttotal: 124ms\tremaining: 2.51s\n",
      "47:\tlearn: 0.6683145\ttotal: 125ms\tremaining: 2.48s\n",
      "48:\tlearn: 0.6680287\ttotal: 126ms\tremaining: 2.45s\n",
      "49:\tlearn: 0.6678710\ttotal: 128ms\tremaining: 2.43s\n",
      "50:\tlearn: 0.6676952\ttotal: 130ms\tremaining: 2.41s\n",
      "51:\tlearn: 0.6675388\ttotal: 131ms\tremaining: 2.39s\n",
      "52:\tlearn: 0.6673125\ttotal: 133ms\tremaining: 2.37s\n",
      "53:\tlearn: 0.6671401\ttotal: 134ms\tremaining: 2.35s\n",
      "54:\tlearn: 0.6670151\ttotal: 135ms\tremaining: 2.33s\n",
      "55:\tlearn: 0.6668867\ttotal: 137ms\tremaining: 2.31s\n",
      "56:\tlearn: 0.6666821\ttotal: 139ms\tremaining: 2.29s\n",
      "57:\tlearn: 0.6665233\ttotal: 140ms\tremaining: 2.27s\n",
      "58:\tlearn: 0.6662394\ttotal: 142ms\tremaining: 2.26s\n",
      "59:\tlearn: 0.6661121\ttotal: 143ms\tremaining: 2.24s\n",
      "60:\tlearn: 0.6660128\ttotal: 144ms\tremaining: 2.22s\n",
      "61:\tlearn: 0.6658653\ttotal: 146ms\tremaining: 2.21s\n",
      "62:\tlearn: 0.6657312\ttotal: 147ms\tremaining: 2.19s\n",
      "63:\tlearn: 0.6655793\ttotal: 149ms\tremaining: 2.18s\n",
      "64:\tlearn: 0.6654715\ttotal: 150ms\tremaining: 2.16s\n",
      "65:\tlearn: 0.6653038\ttotal: 152ms\tremaining: 2.15s\n",
      "66:\tlearn: 0.6651264\ttotal: 154ms\tremaining: 2.14s\n",
      "67:\tlearn: 0.6650429\ttotal: 155ms\tremaining: 2.13s\n",
      "68:\tlearn: 0.6648884\ttotal: 157ms\tremaining: 2.11s\n",
      "69:\tlearn: 0.6647262\ttotal: 158ms\tremaining: 2.1s\n",
      "70:\tlearn: 0.6646482\ttotal: 160ms\tremaining: 2.09s\n",
      "71:\tlearn: 0.6644979\ttotal: 161ms\tremaining: 2.08s\n",
      "72:\tlearn: 0.6643248\ttotal: 163ms\tremaining: 2.06s\n",
      "73:\tlearn: 0.6642174\ttotal: 164ms\tremaining: 2.05s\n",
      "74:\tlearn: 0.6641312\ttotal: 166ms\tremaining: 2.04s\n",
      "75:\tlearn: 0.6640210\ttotal: 168ms\tremaining: 2.04s\n",
      "76:\tlearn: 0.6639098\ttotal: 169ms\tremaining: 2.03s\n",
      "77:\tlearn: 0.6637661\ttotal: 171ms\tremaining: 2.02s\n",
      "78:\tlearn: 0.6636626\ttotal: 173ms\tremaining: 2.01s\n",
      "79:\tlearn: 0.6634855\ttotal: 174ms\tremaining: 2s\n",
      "80:\tlearn: 0.6634271\ttotal: 176ms\tremaining: 2s\n",
      "81:\tlearn: 0.6633307\ttotal: 178ms\tremaining: 1.99s\n",
      "82:\tlearn: 0.6632816\ttotal: 180ms\tremaining: 1.99s\n",
      "83:\tlearn: 0.6631966\ttotal: 183ms\tremaining: 1.99s\n",
      "84:\tlearn: 0.6629611\ttotal: 185ms\tremaining: 2s\n",
      "85:\tlearn: 0.6628309\ttotal: 188ms\tremaining: 2s\n",
      "86:\tlearn: 0.6627540\ttotal: 190ms\tremaining: 1.99s\n",
      "87:\tlearn: 0.6626502\ttotal: 192ms\tremaining: 1.99s\n",
      "88:\tlearn: 0.6625758\ttotal: 196ms\tremaining: 2s\n",
      "89:\tlearn: 0.6623906\ttotal: 198ms\tremaining: 2s\n",
      "90:\tlearn: 0.6622511\ttotal: 200ms\tremaining: 2s\n",
      "91:\tlearn: 0.6620853\ttotal: 202ms\tremaining: 2s\n",
      "92:\tlearn: 0.6619853\ttotal: 204ms\tremaining: 1.99s\n",
      "93:\tlearn: 0.6619324\ttotal: 205ms\tremaining: 1.98s\n",
      "94:\tlearn: 0.6618407\ttotal: 207ms\tremaining: 1.97s\n",
      "95:\tlearn: 0.6617819\ttotal: 209ms\tremaining: 1.97s\n",
      "96:\tlearn: 0.6617222\ttotal: 211ms\tremaining: 1.96s\n",
      "97:\tlearn: 0.6616579\ttotal: 212ms\tremaining: 1.95s\n",
      "98:\tlearn: 0.6615735\ttotal: 214ms\tremaining: 1.95s\n",
      "99:\tlearn: 0.6615063\ttotal: 216ms\tremaining: 1.94s\n",
      "100:\tlearn: 0.6613855\ttotal: 217ms\tremaining: 1.94s\n",
      "101:\tlearn: 0.6612835\ttotal: 219ms\tremaining: 1.93s\n",
      "102:\tlearn: 0.6612164\ttotal: 220ms\tremaining: 1.92s\n",
      "103:\tlearn: 0.6610393\ttotal: 222ms\tremaining: 1.91s\n",
      "104:\tlearn: 0.6609762\ttotal: 224ms\tremaining: 1.91s\n",
      "105:\tlearn: 0.6609480\ttotal: 225ms\tremaining: 1.9s\n",
      "106:\tlearn: 0.6609008\ttotal: 227ms\tremaining: 1.89s\n",
      "107:\tlearn: 0.6608246\ttotal: 229ms\tremaining: 1.89s\n",
      "108:\tlearn: 0.6606777\ttotal: 230ms\tremaining: 1.88s\n",
      "109:\tlearn: 0.6606030\ttotal: 232ms\tremaining: 1.88s\n",
      "110:\tlearn: 0.6604348\ttotal: 234ms\tremaining: 1.87s\n",
      "111:\tlearn: 0.6603608\ttotal: 235ms\tremaining: 1.86s\n",
      "112:\tlearn: 0.6602966\ttotal: 237ms\tremaining: 1.86s\n",
      "113:\tlearn: 0.6602432\ttotal: 238ms\tremaining: 1.85s\n",
      "114:\tlearn: 0.6601495\ttotal: 240ms\tremaining: 1.85s\n",
      "115:\tlearn: 0.6600709\ttotal: 242ms\tremaining: 1.84s\n",
      "116:\tlearn: 0.6600003\ttotal: 243ms\tremaining: 1.83s\n",
      "117:\tlearn: 0.6598993\ttotal: 245ms\tremaining: 1.83s\n",
      "118:\tlearn: 0.6597388\ttotal: 247ms\tremaining: 1.82s\n",
      "119:\tlearn: 0.6595723\ttotal: 249ms\tremaining: 1.82s\n",
      "120:\tlearn: 0.6595404\ttotal: 250ms\tremaining: 1.82s\n",
      "121:\tlearn: 0.6594251\ttotal: 252ms\tremaining: 1.81s\n",
      "122:\tlearn: 0.6593843\ttotal: 254ms\tremaining: 1.81s\n",
      "123:\tlearn: 0.6593100\ttotal: 256ms\tremaining: 1.8s\n",
      "124:\tlearn: 0.6592595\ttotal: 257ms\tremaining: 1.8s\n",
      "125:\tlearn: 0.6592005\ttotal: 259ms\tremaining: 1.79s\n",
      "126:\tlearn: 0.6591615\ttotal: 260ms\tremaining: 1.79s\n",
      "127:\tlearn: 0.6590352\ttotal: 261ms\tremaining: 1.78s\n",
      "128:\tlearn: 0.6589087\ttotal: 263ms\tremaining: 1.78s\n",
      "129:\tlearn: 0.6588515\ttotal: 265ms\tremaining: 1.77s\n",
      "130:\tlearn: 0.6587628\ttotal: 266ms\tremaining: 1.77s\n",
      "131:\tlearn: 0.6586263\ttotal: 268ms\tremaining: 1.76s\n",
      "132:\tlearn: 0.6585954\ttotal: 269ms\tremaining: 1.75s\n",
      "133:\tlearn: 0.6584058\ttotal: 271ms\tremaining: 1.75s\n",
      "134:\tlearn: 0.6583257\ttotal: 272ms\tremaining: 1.74s\n",
      "135:\tlearn: 0.6582394\ttotal: 273ms\tremaining: 1.74s\n",
      "136:\tlearn: 0.6581677\ttotal: 275ms\tremaining: 1.73s\n",
      "137:\tlearn: 0.6581200\ttotal: 276ms\tremaining: 1.72s\n",
      "138:\tlearn: 0.6579454\ttotal: 277ms\tremaining: 1.72s\n",
      "139:\tlearn: 0.6578014\ttotal: 279ms\tremaining: 1.71s\n",
      "140:\tlearn: 0.6576554\ttotal: 281ms\tremaining: 1.71s\n",
      "141:\tlearn: 0.6576235\ttotal: 282ms\tremaining: 1.7s\n",
      "142:\tlearn: 0.6575824\ttotal: 284ms\tremaining: 1.7s\n",
      "143:\tlearn: 0.6575298\ttotal: 285ms\tremaining: 1.69s\n",
      "144:\tlearn: 0.6574149\ttotal: 286ms\tremaining: 1.69s\n",
      "145:\tlearn: 0.6572952\ttotal: 288ms\tremaining: 1.68s\n",
      "146:\tlearn: 0.6572193\ttotal: 289ms\tremaining: 1.68s\n",
      "147:\tlearn: 0.6571480\ttotal: 291ms\tremaining: 1.67s\n",
      "148:\tlearn: 0.6570811\ttotal: 292ms\tremaining: 1.67s\n",
      "149:\tlearn: 0.6570280\ttotal: 293ms\tremaining: 1.66s\n",
      "150:\tlearn: 0.6569091\ttotal: 295ms\tremaining: 1.66s\n",
      "151:\tlearn: 0.6568610\ttotal: 296ms\tremaining: 1.65s\n",
      "152:\tlearn: 0.6567685\ttotal: 298ms\tremaining: 1.65s\n",
      "153:\tlearn: 0.6566676\ttotal: 299ms\tremaining: 1.64s\n",
      "154:\tlearn: 0.6565375\ttotal: 301ms\tremaining: 1.64s\n",
      "155:\tlearn: 0.6564192\ttotal: 302ms\tremaining: 1.63s\n",
      "156:\tlearn: 0.6563617\ttotal: 303ms\tremaining: 1.63s\n",
      "157:\tlearn: 0.6561982\ttotal: 305ms\tremaining: 1.62s\n",
      "158:\tlearn: 0.6560788\ttotal: 306ms\tremaining: 1.62s\n",
      "159:\tlearn: 0.6559882\ttotal: 308ms\tremaining: 1.61s\n",
      "160:\tlearn: 0.6558655\ttotal: 309ms\tremaining: 1.61s\n",
      "161:\tlearn: 0.6557639\ttotal: 310ms\tremaining: 1.6s\n",
      "162:\tlearn: 0.6557392\ttotal: 312ms\tremaining: 1.6s\n",
      "163:\tlearn: 0.6556550\ttotal: 314ms\tremaining: 1.6s\n",
      "164:\tlearn: 0.6556089\ttotal: 315ms\tremaining: 1.59s\n",
      "165:\tlearn: 0.6554987\ttotal: 317ms\tremaining: 1.59s\n",
      "166:\tlearn: 0.6554528\ttotal: 318ms\tremaining: 1.59s\n",
      "167:\tlearn: 0.6553634\ttotal: 319ms\tremaining: 1.58s\n",
      "168:\tlearn: 0.6553115\ttotal: 321ms\tremaining: 1.58s\n",
      "169:\tlearn: 0.6552408\ttotal: 322ms\tremaining: 1.57s\n",
      "170:\tlearn: 0.6551764\ttotal: 324ms\tremaining: 1.57s\n",
      "171:\tlearn: 0.6550735\ttotal: 325ms\tremaining: 1.56s\n",
      "172:\tlearn: 0.6549785\ttotal: 327ms\tremaining: 1.56s\n",
      "173:\tlearn: 0.6549406\ttotal: 328ms\tremaining: 1.56s\n",
      "174:\tlearn: 0.6548412\ttotal: 330ms\tremaining: 1.55s\n",
      "175:\tlearn: 0.6547919\ttotal: 331ms\tremaining: 1.55s\n",
      "176:\tlearn: 0.6547055\ttotal: 333ms\tremaining: 1.55s\n",
      "177:\tlearn: 0.6546621\ttotal: 334ms\tremaining: 1.54s\n",
      "178:\tlearn: 0.6546134\ttotal: 335ms\tremaining: 1.54s\n",
      "179:\tlearn: 0.6545036\ttotal: 337ms\tremaining: 1.53s\n",
      "180:\tlearn: 0.6544798\ttotal: 338ms\tremaining: 1.53s\n",
      "181:\tlearn: 0.6544148\ttotal: 339ms\tremaining: 1.52s\n",
      "182:\tlearn: 0.6543024\ttotal: 341ms\tremaining: 1.52s\n",
      "183:\tlearn: 0.6542647\ttotal: 342ms\tremaining: 1.52s\n",
      "184:\tlearn: 0.6542187\ttotal: 344ms\tremaining: 1.51s\n",
      "185:\tlearn: 0.6541342\ttotal: 345ms\tremaining: 1.51s\n",
      "186:\tlearn: 0.6540555\ttotal: 347ms\tremaining: 1.51s\n",
      "187:\tlearn: 0.6539746\ttotal: 348ms\tremaining: 1.5s\n",
      "188:\tlearn: 0.6539080\ttotal: 350ms\tremaining: 1.5s\n",
      "189:\tlearn: 0.6538562\ttotal: 351ms\tremaining: 1.5s\n",
      "190:\tlearn: 0.6537725\ttotal: 353ms\tremaining: 1.49s\n",
      "191:\tlearn: 0.6537335\ttotal: 354ms\tremaining: 1.49s\n",
      "192:\tlearn: 0.6536254\ttotal: 356ms\tremaining: 1.49s\n",
      "193:\tlearn: 0.6535855\ttotal: 357ms\tremaining: 1.48s\n",
      "194:\tlearn: 0.6535362\ttotal: 359ms\tremaining: 1.48s\n",
      "195:\tlearn: 0.6534885\ttotal: 361ms\tremaining: 1.48s\n",
      "196:\tlearn: 0.6534155\ttotal: 362ms\tremaining: 1.48s\n",
      "197:\tlearn: 0.6532279\ttotal: 364ms\tremaining: 1.47s\n",
      "198:\tlearn: 0.6532195\ttotal: 365ms\tremaining: 1.47s\n",
      "199:\tlearn: 0.6531658\ttotal: 367ms\tremaining: 1.47s\n",
      "200:\tlearn: 0.6530877\ttotal: 368ms\tremaining: 1.46s\n",
      "201:\tlearn: 0.6529379\ttotal: 370ms\tremaining: 1.46s\n",
      "202:\tlearn: 0.6528748\ttotal: 371ms\tremaining: 1.46s\n",
      "203:\tlearn: 0.6527753\ttotal: 372ms\tremaining: 1.45s\n",
      "204:\tlearn: 0.6527421\ttotal: 374ms\tremaining: 1.45s\n",
      "205:\tlearn: 0.6527241\ttotal: 376ms\tremaining: 1.45s\n",
      "206:\tlearn: 0.6526729\ttotal: 377ms\tremaining: 1.44s\n",
      "207:\tlearn: 0.6526301\ttotal: 379ms\tremaining: 1.44s\n",
      "208:\tlearn: 0.6524955\ttotal: 380ms\tremaining: 1.44s\n",
      "209:\tlearn: 0.6524024\ttotal: 382ms\tremaining: 1.44s\n",
      "210:\tlearn: 0.6523558\ttotal: 383ms\tremaining: 1.43s\n",
      "211:\tlearn: 0.6522785\ttotal: 385ms\tremaining: 1.43s\n",
      "212:\tlearn: 0.6522669\ttotal: 387ms\tremaining: 1.43s\n",
      "213:\tlearn: 0.6522167\ttotal: 388ms\tremaining: 1.43s\n",
      "214:\tlearn: 0.6520920\ttotal: 390ms\tremaining: 1.42s\n",
      "215:\tlearn: 0.6520044\ttotal: 391ms\tremaining: 1.42s\n",
      "216:\tlearn: 0.6518736\ttotal: 393ms\tremaining: 1.42s\n",
      "217:\tlearn: 0.6518413\ttotal: 394ms\tremaining: 1.41s\n",
      "218:\tlearn: 0.6518058\ttotal: 395ms\tremaining: 1.41s\n",
      "219:\tlearn: 0.6516738\ttotal: 397ms\tremaining: 1.41s\n",
      "220:\tlearn: 0.6516347\ttotal: 398ms\tremaining: 1.4s\n",
      "221:\tlearn: 0.6515439\ttotal: 400ms\tremaining: 1.4s\n",
      "222:\tlearn: 0.6514523\ttotal: 401ms\tremaining: 1.4s\n",
      "223:\tlearn: 0.6513885\ttotal: 403ms\tremaining: 1.39s\n",
      "224:\tlearn: 0.6513688\ttotal: 404ms\tremaining: 1.39s\n",
      "225:\tlearn: 0.6513293\ttotal: 405ms\tremaining: 1.39s\n",
      "226:\tlearn: 0.6512129\ttotal: 407ms\tremaining: 1.39s\n",
      "227:\tlearn: 0.6510862\ttotal: 409ms\tremaining: 1.38s\n",
      "228:\tlearn: 0.6510171\ttotal: 410ms\tremaining: 1.38s\n",
      "229:\tlearn: 0.6509804\ttotal: 411ms\tremaining: 1.38s\n",
      "230:\tlearn: 0.6508885\ttotal: 413ms\tremaining: 1.37s\n",
      "231:\tlearn: 0.6508093\ttotal: 414ms\tremaining: 1.37s\n",
      "232:\tlearn: 0.6507410\ttotal: 416ms\tremaining: 1.37s\n",
      "233:\tlearn: 0.6506395\ttotal: 417ms\tremaining: 1.36s\n",
      "234:\tlearn: 0.6505432\ttotal: 418ms\tremaining: 1.36s\n",
      "235:\tlearn: 0.6503952\ttotal: 420ms\tremaining: 1.36s\n",
      "236:\tlearn: 0.6503650\ttotal: 422ms\tremaining: 1.36s\n",
      "237:\tlearn: 0.6502877\ttotal: 423ms\tremaining: 1.35s\n",
      "238:\tlearn: 0.6502087\ttotal: 424ms\tremaining: 1.35s\n",
      "239:\tlearn: 0.6501745\ttotal: 426ms\tremaining: 1.35s\n",
      "240:\tlearn: 0.6501137\ttotal: 427ms\tremaining: 1.34s\n",
      "241:\tlearn: 0.6500787\ttotal: 428ms\tremaining: 1.34s\n",
      "242:\tlearn: 0.6499774\ttotal: 430ms\tremaining: 1.34s\n",
      "243:\tlearn: 0.6499461\ttotal: 431ms\tremaining: 1.33s\n",
      "244:\tlearn: 0.6498440\ttotal: 432ms\tremaining: 1.33s\n",
      "245:\tlearn: 0.6497413\ttotal: 434ms\tremaining: 1.33s\n",
      "246:\tlearn: 0.6496914\ttotal: 435ms\tremaining: 1.33s\n",
      "247:\tlearn: 0.6496259\ttotal: 437ms\tremaining: 1.32s\n",
      "248:\tlearn: 0.6495524\ttotal: 438ms\tremaining: 1.32s\n",
      "249:\tlearn: 0.6495270\ttotal: 440ms\tremaining: 1.32s\n",
      "250:\tlearn: 0.6494207\ttotal: 441ms\tremaining: 1.31s\n",
      "251:\tlearn: 0.6493723\ttotal: 442ms\tremaining: 1.31s\n",
      "252:\tlearn: 0.6492248\ttotal: 444ms\tremaining: 1.31s\n",
      "253:\tlearn: 0.6491907\ttotal: 445ms\tremaining: 1.31s\n",
      "254:\tlearn: 0.6491217\ttotal: 446ms\tremaining: 1.3s\n",
      "255:\tlearn: 0.6490153\ttotal: 448ms\tremaining: 1.3s\n",
      "256:\tlearn: 0.6488946\ttotal: 449ms\tremaining: 1.3s\n",
      "257:\tlearn: 0.6488042\ttotal: 451ms\tremaining: 1.29s\n",
      "258:\tlearn: 0.6487701\ttotal: 452ms\tremaining: 1.29s\n",
      "259:\tlearn: 0.6486660\ttotal: 454ms\tremaining: 1.29s\n",
      "260:\tlearn: 0.6486429\ttotal: 455ms\tremaining: 1.29s\n",
      "261:\tlearn: 0.6485623\ttotal: 456ms\tremaining: 1.28s\n",
      "262:\tlearn: 0.6485246\ttotal: 458ms\tremaining: 1.28s\n",
      "263:\tlearn: 0.6484410\ttotal: 459ms\tremaining: 1.28s\n",
      "264:\tlearn: 0.6483167\ttotal: 460ms\tremaining: 1.28s\n",
      "265:\tlearn: 0.6482925\ttotal: 462ms\tremaining: 1.27s\n",
      "266:\tlearn: 0.6482555\ttotal: 463ms\tremaining: 1.27s\n",
      "267:\tlearn: 0.6481533\ttotal: 465ms\tremaining: 1.27s\n",
      "268:\tlearn: 0.6481325\ttotal: 467ms\tremaining: 1.27s\n",
      "269:\tlearn: 0.6480738\ttotal: 468ms\tremaining: 1.26s\n",
      "270:\tlearn: 0.6479463\ttotal: 470ms\tremaining: 1.26s\n",
      "271:\tlearn: 0.6479062\ttotal: 472ms\tremaining: 1.26s\n",
      "272:\tlearn: 0.6478223\ttotal: 473ms\tremaining: 1.26s\n",
      "273:\tlearn: 0.6477609\ttotal: 474ms\tremaining: 1.26s\n",
      "274:\tlearn: 0.6477170\ttotal: 476ms\tremaining: 1.25s\n",
      "275:\tlearn: 0.6476939\ttotal: 477ms\tremaining: 1.25s\n",
      "276:\tlearn: 0.6476834\ttotal: 479ms\tremaining: 1.25s\n",
      "277:\tlearn: 0.6476262\ttotal: 480ms\tremaining: 1.25s\n",
      "278:\tlearn: 0.6475216\ttotal: 482ms\tremaining: 1.24s\n",
      "279:\tlearn: 0.6474362\ttotal: 483ms\tremaining: 1.24s\n",
      "280:\tlearn: 0.6474023\ttotal: 485ms\tremaining: 1.24s\n",
      "281:\tlearn: 0.6473279\ttotal: 486ms\tremaining: 1.24s\n",
      "282:\tlearn: 0.6472620\ttotal: 488ms\tremaining: 1.24s\n",
      "283:\tlearn: 0.6472437\ttotal: 489ms\tremaining: 1.23s\n",
      "284:\tlearn: 0.6471589\ttotal: 490ms\tremaining: 1.23s\n",
      "285:\tlearn: 0.6471188\ttotal: 492ms\tremaining: 1.23s\n",
      "286:\tlearn: 0.6470429\ttotal: 493ms\tremaining: 1.22s\n",
      "287:\tlearn: 0.6469907\ttotal: 494ms\tremaining: 1.22s\n",
      "288:\tlearn: 0.6469465\ttotal: 496ms\tremaining: 1.22s\n",
      "289:\tlearn: 0.6468660\ttotal: 497ms\tremaining: 1.22s\n",
      "290:\tlearn: 0.6467911\ttotal: 499ms\tremaining: 1.22s\n",
      "291:\tlearn: 0.6467603\ttotal: 500ms\tremaining: 1.21s\n",
      "292:\tlearn: 0.6467322\ttotal: 502ms\tremaining: 1.21s\n",
      "293:\tlearn: 0.6467026\ttotal: 504ms\tremaining: 1.21s\n",
      "294:\tlearn: 0.6465928\ttotal: 505ms\tremaining: 1.21s\n",
      "295:\tlearn: 0.6465426\ttotal: 506ms\tremaining: 1.2s\n",
      "296:\tlearn: 0.6464917\ttotal: 508ms\tremaining: 1.2s\n",
      "297:\tlearn: 0.6464209\ttotal: 509ms\tremaining: 1.2s\n",
      "298:\tlearn: 0.6463399\ttotal: 510ms\tremaining: 1.2s\n",
      "299:\tlearn: 0.6462915\ttotal: 511ms\tremaining: 1.19s\n",
      "300:\tlearn: 0.6462589\ttotal: 513ms\tremaining: 1.19s\n",
      "301:\tlearn: 0.6462047\ttotal: 514ms\tremaining: 1.19s\n",
      "302:\tlearn: 0.6461669\ttotal: 515ms\tremaining: 1.19s\n",
      "303:\tlearn: 0.6460877\ttotal: 517ms\tremaining: 1.18s\n",
      "304:\tlearn: 0.6459946\ttotal: 519ms\tremaining: 1.18s\n",
      "305:\tlearn: 0.6459499\ttotal: 520ms\tremaining: 1.18s\n",
      "306:\tlearn: 0.6458303\ttotal: 521ms\tremaining: 1.18s\n",
      "307:\tlearn: 0.6458112\ttotal: 523ms\tremaining: 1.17s\n",
      "308:\tlearn: 0.6457541\ttotal: 524ms\tremaining: 1.17s\n",
      "309:\tlearn: 0.6457239\ttotal: 525ms\tremaining: 1.17s\n",
      "310:\tlearn: 0.6456456\ttotal: 527ms\tremaining: 1.17s\n",
      "311:\tlearn: 0.6456116\ttotal: 528ms\tremaining: 1.16s\n",
      "312:\tlearn: 0.6455857\ttotal: 529ms\tremaining: 1.16s\n",
      "313:\tlearn: 0.6455499\ttotal: 531ms\tremaining: 1.16s\n",
      "314:\tlearn: 0.6454981\ttotal: 532ms\tremaining: 1.16s\n",
      "315:\tlearn: 0.6453701\ttotal: 534ms\tremaining: 1.16s\n",
      "316:\tlearn: 0.6453188\ttotal: 536ms\tremaining: 1.15s\n",
      "317:\tlearn: 0.6452595\ttotal: 537ms\tremaining: 1.15s\n",
      "318:\tlearn: 0.6451818\ttotal: 538ms\tremaining: 1.15s\n",
      "319:\tlearn: 0.6451744\ttotal: 540ms\tremaining: 1.15s\n",
      "320:\tlearn: 0.6451372\ttotal: 541ms\tremaining: 1.14s\n",
      "321:\tlearn: 0.6450764\ttotal: 543ms\tremaining: 1.14s\n",
      "322:\tlearn: 0.6450496\ttotal: 544ms\tremaining: 1.14s\n",
      "323:\tlearn: 0.6449584\ttotal: 546ms\tremaining: 1.14s\n",
      "324:\tlearn: 0.6448382\ttotal: 547ms\tremaining: 1.14s\n",
      "325:\tlearn: 0.6447879\ttotal: 549ms\tremaining: 1.14s\n",
      "326:\tlearn: 0.6446800\ttotal: 550ms\tremaining: 1.13s\n",
      "327:\tlearn: 0.6444976\ttotal: 552ms\tremaining: 1.13s\n",
      "328:\tlearn: 0.6444451\ttotal: 553ms\tremaining: 1.13s\n",
      "329:\tlearn: 0.6443957\ttotal: 554ms\tremaining: 1.13s\n",
      "330:\tlearn: 0.6443409\ttotal: 556ms\tremaining: 1.12s\n",
      "331:\tlearn: 0.6442604\ttotal: 557ms\tremaining: 1.12s\n",
      "332:\tlearn: 0.6442312\ttotal: 559ms\tremaining: 1.12s\n",
      "333:\tlearn: 0.6441788\ttotal: 560ms\tremaining: 1.12s\n",
      "334:\tlearn: 0.6441220\ttotal: 561ms\tremaining: 1.11s\n",
      "335:\tlearn: 0.6440285\ttotal: 563ms\tremaining: 1.11s\n",
      "336:\tlearn: 0.6439355\ttotal: 564ms\tremaining: 1.11s\n",
      "337:\tlearn: 0.6439160\ttotal: 566ms\tremaining: 1.11s\n",
      "338:\tlearn: 0.6438805\ttotal: 568ms\tremaining: 1.11s\n",
      "339:\tlearn: 0.6438383\ttotal: 569ms\tremaining: 1.1s\n",
      "340:\tlearn: 0.6438161\ttotal: 570ms\tremaining: 1.1s\n",
      "341:\tlearn: 0.6437628\ttotal: 572ms\tremaining: 1.1s\n",
      "342:\tlearn: 0.6437040\ttotal: 573ms\tremaining: 1.1s\n",
      "343:\tlearn: 0.6436770\ttotal: 575ms\tremaining: 1.1s\n",
      "344:\tlearn: 0.6436453\ttotal: 577ms\tremaining: 1.09s\n",
      "345:\tlearn: 0.6435975\ttotal: 578ms\tremaining: 1.09s\n",
      "346:\tlearn: 0.6435233\ttotal: 581ms\tremaining: 1.09s\n",
      "347:\tlearn: 0.6433914\ttotal: 582ms\tremaining: 1.09s\n",
      "348:\tlearn: 0.6433560\ttotal: 584ms\tremaining: 1.09s\n",
      "349:\tlearn: 0.6432931\ttotal: 586ms\tremaining: 1.09s\n",
      "350:\tlearn: 0.6432171\ttotal: 587ms\tremaining: 1.08s\n",
      "351:\tlearn: 0.6431707\ttotal: 588ms\tremaining: 1.08s\n",
      "352:\tlearn: 0.6431423\ttotal: 589ms\tremaining: 1.08s\n",
      "353:\tlearn: 0.6431082\ttotal: 591ms\tremaining: 1.08s\n",
      "354:\tlearn: 0.6430175\ttotal: 592ms\tremaining: 1.08s\n",
      "355:\tlearn: 0.6429650\ttotal: 594ms\tremaining: 1.07s\n",
      "356:\tlearn: 0.6428724\ttotal: 595ms\tremaining: 1.07s\n",
      "357:\tlearn: 0.6427270\ttotal: 597ms\tremaining: 1.07s\n",
      "358:\tlearn: 0.6426817\ttotal: 599ms\tremaining: 1.07s\n",
      "359:\tlearn: 0.6425997\ttotal: 600ms\tremaining: 1.07s\n",
      "360:\tlearn: 0.6425591\ttotal: 602ms\tremaining: 1.06s\n",
      "361:\tlearn: 0.6425237\ttotal: 603ms\tremaining: 1.06s\n",
      "362:\tlearn: 0.6424689\ttotal: 605ms\tremaining: 1.06s\n",
      "363:\tlearn: 0.6424045\ttotal: 606ms\tremaining: 1.06s\n",
      "364:\tlearn: 0.6422992\ttotal: 607ms\tremaining: 1.06s\n",
      "365:\tlearn: 0.6422541\ttotal: 609ms\tremaining: 1.05s\n",
      "366:\tlearn: 0.6421442\ttotal: 610ms\tremaining: 1.05s\n",
      "367:\tlearn: 0.6420759\ttotal: 612ms\tremaining: 1.05s\n",
      "368:\tlearn: 0.6420039\ttotal: 613ms\tremaining: 1.05s\n",
      "369:\tlearn: 0.6419041\ttotal: 615ms\tremaining: 1.05s\n",
      "370:\tlearn: 0.6418603\ttotal: 616ms\tremaining: 1.04s\n",
      "371:\tlearn: 0.6418237\ttotal: 618ms\tremaining: 1.04s\n",
      "372:\tlearn: 0.6417812\ttotal: 619ms\tremaining: 1.04s\n",
      "373:\tlearn: 0.6417184\ttotal: 621ms\tremaining: 1.04s\n",
      "374:\tlearn: 0.6416773\ttotal: 622ms\tremaining: 1.04s\n",
      "375:\tlearn: 0.6416020\ttotal: 623ms\tremaining: 1.03s\n",
      "376:\tlearn: 0.6414701\ttotal: 625ms\tremaining: 1.03s\n",
      "377:\tlearn: 0.6414016\ttotal: 626ms\tremaining: 1.03s\n",
      "378:\tlearn: 0.6412881\ttotal: 628ms\tremaining: 1.03s\n",
      "379:\tlearn: 0.6412345\ttotal: 629ms\tremaining: 1.03s\n",
      "380:\tlearn: 0.6411935\ttotal: 631ms\tremaining: 1.02s\n",
      "381:\tlearn: 0.6411321\ttotal: 632ms\tremaining: 1.02s\n",
      "382:\tlearn: 0.6410689\ttotal: 633ms\tremaining: 1.02s\n",
      "383:\tlearn: 0.6410171\ttotal: 635ms\tremaining: 1.02s\n",
      "384:\tlearn: 0.6408987\ttotal: 636ms\tremaining: 1.02s\n",
      "385:\tlearn: 0.6408278\ttotal: 638ms\tremaining: 1.01s\n",
      "386:\tlearn: 0.6407836\ttotal: 639ms\tremaining: 1.01s\n",
      "387:\tlearn: 0.6407350\ttotal: 641ms\tremaining: 1.01s\n",
      "388:\tlearn: 0.6406915\ttotal: 642ms\tremaining: 1.01s\n",
      "389:\tlearn: 0.6406073\ttotal: 644ms\tremaining: 1.01s\n",
      "390:\tlearn: 0.6405398\ttotal: 645ms\tremaining: 1s\n",
      "391:\tlearn: 0.6404922\ttotal: 647ms\tremaining: 1s\n",
      "392:\tlearn: 0.6404175\ttotal: 648ms\tremaining: 1s\n",
      "393:\tlearn: 0.6403444\ttotal: 650ms\tremaining: 1000ms\n",
      "394:\tlearn: 0.6402695\ttotal: 651ms\tremaining: 997ms\n",
      "395:\tlearn: 0.6402202\ttotal: 653ms\tremaining: 996ms\n",
      "396:\tlearn: 0.6401313\ttotal: 655ms\tremaining: 994ms\n",
      "397:\tlearn: 0.6400419\ttotal: 656ms\tremaining: 992ms\n",
      "398:\tlearn: 0.6399583\ttotal: 658ms\tremaining: 991ms\n",
      "399:\tlearn: 0.6399304\ttotal: 660ms\tremaining: 989ms\n",
      "400:\tlearn: 0.6398954\ttotal: 661ms\tremaining: 987ms\n",
      "401:\tlearn: 0.6398605\ttotal: 662ms\tremaining: 985ms\n",
      "402:\tlearn: 0.6397730\ttotal: 663ms\tremaining: 983ms\n",
      "403:\tlearn: 0.6397372\ttotal: 665ms\tremaining: 981ms\n",
      "404:\tlearn: 0.6396264\ttotal: 666ms\tremaining: 979ms\n",
      "405:\tlearn: 0.6395717\ttotal: 667ms\tremaining: 977ms\n",
      "406:\tlearn: 0.6394952\ttotal: 669ms\tremaining: 974ms\n",
      "407:\tlearn: 0.6394561\ttotal: 670ms\tremaining: 972ms\n",
      "408:\tlearn: 0.6393740\ttotal: 671ms\tremaining: 970ms\n",
      "409:\tlearn: 0.6392606\ttotal: 673ms\tremaining: 968ms\n",
      "410:\tlearn: 0.6391979\ttotal: 675ms\tremaining: 967ms\n",
      "411:\tlearn: 0.6390576\ttotal: 676ms\tremaining: 965ms\n",
      "412:\tlearn: 0.6389674\ttotal: 678ms\tremaining: 963ms\n",
      "413:\tlearn: 0.6388805\ttotal: 679ms\tremaining: 961ms\n",
      "414:\tlearn: 0.6388083\ttotal: 681ms\tremaining: 959ms\n",
      "415:\tlearn: 0.6387643\ttotal: 682ms\tremaining: 957ms\n",
      "416:\tlearn: 0.6387052\ttotal: 684ms\tremaining: 956ms\n",
      "417:\tlearn: 0.6385828\ttotal: 686ms\tremaining: 954ms\n",
      "418:\tlearn: 0.6384918\ttotal: 688ms\tremaining: 953ms\n",
      "419:\tlearn: 0.6384186\ttotal: 689ms\tremaining: 952ms\n",
      "420:\tlearn: 0.6383852\ttotal: 691ms\tremaining: 950ms\n",
      "421:\tlearn: 0.6382928\ttotal: 693ms\tremaining: 949ms\n",
      "422:\tlearn: 0.6382098\ttotal: 694ms\tremaining: 947ms\n",
      "423:\tlearn: 0.6381432\ttotal: 695ms\tremaining: 945ms\n",
      "424:\tlearn: 0.6380602\ttotal: 697ms\tremaining: 943ms\n",
      "425:\tlearn: 0.6380001\ttotal: 698ms\tremaining: 941ms\n",
      "426:\tlearn: 0.6379202\ttotal: 699ms\tremaining: 939ms\n",
      "427:\tlearn: 0.6378296\ttotal: 701ms\tremaining: 937ms\n",
      "428:\tlearn: 0.6377111\ttotal: 702ms\tremaining: 934ms\n",
      "429:\tlearn: 0.6376025\ttotal: 703ms\tremaining: 932ms\n",
      "430:\tlearn: 0.6374336\ttotal: 705ms\tremaining: 931ms\n",
      "431:\tlearn: 0.6373347\ttotal: 707ms\tremaining: 929ms\n",
      "432:\tlearn: 0.6371940\ttotal: 709ms\tremaining: 928ms\n",
      "433:\tlearn: 0.6371081\ttotal: 710ms\tremaining: 926ms\n",
      "434:\tlearn: 0.6370315\ttotal: 711ms\tremaining: 924ms\n",
      "435:\tlearn: 0.6369076\ttotal: 713ms\tremaining: 922ms\n",
      "436:\tlearn: 0.6368107\ttotal: 715ms\tremaining: 921ms\n",
      "437:\tlearn: 0.6367052\ttotal: 716ms\tremaining: 919ms\n",
      "438:\tlearn: 0.6366008\ttotal: 717ms\tremaining: 917ms\n",
      "439:\tlearn: 0.6364230\ttotal: 719ms\tremaining: 915ms\n",
      "440:\tlearn: 0.6363461\ttotal: 720ms\tremaining: 913ms\n",
      "441:\tlearn: 0.6362827\ttotal: 722ms\tremaining: 912ms\n",
      "442:\tlearn: 0.6362108\ttotal: 724ms\tremaining: 910ms\n",
      "443:\tlearn: 0.6361442\ttotal: 725ms\tremaining: 908ms\n",
      "444:\tlearn: 0.6361054\ttotal: 727ms\tremaining: 906ms\n",
      "445:\tlearn: 0.6360335\ttotal: 728ms\tremaining: 904ms\n",
      "446:\tlearn: 0.6359237\ttotal: 729ms\tremaining: 902ms\n",
      "447:\tlearn: 0.6358754\ttotal: 731ms\tremaining: 900ms\n",
      "448:\tlearn: 0.6357897\ttotal: 732ms\tremaining: 898ms\n",
      "449:\tlearn: 0.6357023\ttotal: 733ms\tremaining: 896ms\n",
      "450:\tlearn: 0.6356402\ttotal: 735ms\tremaining: 894ms\n",
      "451:\tlearn: 0.6356243\ttotal: 736ms\tremaining: 892ms\n",
      "452:\tlearn: 0.6355302\ttotal: 738ms\tremaining: 891ms\n",
      "453:\tlearn: 0.6354409\ttotal: 740ms\tremaining: 890ms\n",
      "454:\tlearn: 0.6353666\ttotal: 742ms\tremaining: 888ms\n",
      "455:\tlearn: 0.6352881\ttotal: 743ms\tremaining: 887ms\n",
      "456:\tlearn: 0.6352086\ttotal: 745ms\tremaining: 885ms\n",
      "457:\tlearn: 0.6351195\ttotal: 746ms\tremaining: 883ms\n",
      "458:\tlearn: 0.6350486\ttotal: 748ms\tremaining: 881ms\n",
      "459:\tlearn: 0.6349806\ttotal: 749ms\tremaining: 879ms\n",
      "460:\tlearn: 0.6349476\ttotal: 750ms\tremaining: 877ms\n",
      "461:\tlearn: 0.6348702\ttotal: 752ms\tremaining: 875ms\n",
      "462:\tlearn: 0.6347282\ttotal: 753ms\tremaining: 874ms\n",
      "463:\tlearn: 0.6346714\ttotal: 755ms\tremaining: 872ms\n",
      "464:\tlearn: 0.6345712\ttotal: 757ms\tremaining: 871ms\n",
      "465:\tlearn: 0.6344588\ttotal: 758ms\tremaining: 869ms\n",
      "466:\tlearn: 0.6343746\ttotal: 760ms\tremaining: 867ms\n",
      "467:\tlearn: 0.6343056\ttotal: 761ms\tremaining: 865ms\n",
      "468:\tlearn: 0.6342432\ttotal: 762ms\tremaining: 863ms\n",
      "469:\tlearn: 0.6341648\ttotal: 764ms\tremaining: 861ms\n",
      "470:\tlearn: 0.6340613\ttotal: 765ms\tremaining: 859ms\n",
      "471:\tlearn: 0.6339660\ttotal: 767ms\tremaining: 858ms\n",
      "472:\tlearn: 0.6338733\ttotal: 769ms\tremaining: 857ms\n",
      "473:\tlearn: 0.6337555\ttotal: 771ms\tremaining: 856ms\n",
      "474:\tlearn: 0.6336257\ttotal: 773ms\tremaining: 854ms\n",
      "475:\tlearn: 0.6335503\ttotal: 774ms\tremaining: 852ms\n",
      "476:\tlearn: 0.6334582\ttotal: 776ms\tremaining: 851ms\n",
      "477:\tlearn: 0.6333672\ttotal: 777ms\tremaining: 849ms\n",
      "478:\tlearn: 0.6333049\ttotal: 779ms\tremaining: 847ms\n",
      "479:\tlearn: 0.6332595\ttotal: 780ms\tremaining: 845ms\n",
      "480:\tlearn: 0.6331973\ttotal: 782ms\tremaining: 843ms\n",
      "481:\tlearn: 0.6331096\ttotal: 784ms\tremaining: 842ms\n",
      "482:\tlearn: 0.6330128\ttotal: 785ms\tremaining: 841ms\n",
      "483:\tlearn: 0.6329539\ttotal: 787ms\tremaining: 839ms\n",
      "484:\tlearn: 0.6328336\ttotal: 789ms\tremaining: 838ms\n",
      "485:\tlearn: 0.6327786\ttotal: 790ms\tremaining: 836ms\n",
      "486:\tlearn: 0.6327155\ttotal: 792ms\tremaining: 834ms\n",
      "487:\tlearn: 0.6326191\ttotal: 793ms\tremaining: 832ms\n",
      "488:\tlearn: 0.6325114\ttotal: 794ms\tremaining: 830ms\n",
      "489:\tlearn: 0.6323940\ttotal: 796ms\tremaining: 828ms\n",
      "490:\tlearn: 0.6323250\ttotal: 797ms\tremaining: 827ms\n",
      "491:\tlearn: 0.6322181\ttotal: 799ms\tremaining: 825ms\n",
      "492:\tlearn: 0.6321587\ttotal: 800ms\tremaining: 823ms\n",
      "493:\tlearn: 0.6320559\ttotal: 802ms\tremaining: 822ms\n",
      "494:\tlearn: 0.6319932\ttotal: 804ms\tremaining: 820ms\n",
      "495:\tlearn: 0.6318825\ttotal: 805ms\tremaining: 818ms\n",
      "496:\tlearn: 0.6317913\ttotal: 807ms\tremaining: 817ms\n",
      "497:\tlearn: 0.6317229\ttotal: 808ms\tremaining: 815ms\n",
      "498:\tlearn: 0.6315625\ttotal: 810ms\tremaining: 813ms\n",
      "499:\tlearn: 0.6314647\ttotal: 811ms\tremaining: 811ms\n",
      "500:\tlearn: 0.6313893\ttotal: 813ms\tremaining: 810ms\n",
      "501:\tlearn: 0.6312785\ttotal: 814ms\tremaining: 808ms\n",
      "502:\tlearn: 0.6312037\ttotal: 816ms\tremaining: 806ms\n",
      "503:\tlearn: 0.6310878\ttotal: 818ms\tremaining: 805ms\n",
      "504:\tlearn: 0.6310274\ttotal: 820ms\tremaining: 803ms\n",
      "505:\tlearn: 0.6309525\ttotal: 821ms\tremaining: 802ms\n",
      "506:\tlearn: 0.6308483\ttotal: 823ms\tremaining: 800ms\n",
      "507:\tlearn: 0.6307866\ttotal: 824ms\tremaining: 798ms\n",
      "508:\tlearn: 0.6306400\ttotal: 826ms\tremaining: 796ms\n",
      "509:\tlearn: 0.6306127\ttotal: 827ms\tremaining: 795ms\n",
      "510:\tlearn: 0.6304387\ttotal: 828ms\tremaining: 793ms\n",
      "511:\tlearn: 0.6303350\ttotal: 830ms\tremaining: 791ms\n",
      "512:\tlearn: 0.6301887\ttotal: 832ms\tremaining: 790ms\n",
      "513:\tlearn: 0.6300214\ttotal: 834ms\tremaining: 788ms\n",
      "514:\tlearn: 0.6298689\ttotal: 835ms\tremaining: 787ms\n",
      "515:\tlearn: 0.6297660\ttotal: 837ms\tremaining: 785ms\n",
      "516:\tlearn: 0.6296979\ttotal: 838ms\tremaining: 783ms\n",
      "517:\tlearn: 0.6296397\ttotal: 840ms\tremaining: 781ms\n",
      "518:\tlearn: 0.6295290\ttotal: 841ms\tremaining: 780ms\n",
      "519:\tlearn: 0.6294702\ttotal: 843ms\tremaining: 778ms\n",
      "520:\tlearn: 0.6294094\ttotal: 844ms\tremaining: 776ms\n",
      "521:\tlearn: 0.6293476\ttotal: 845ms\tremaining: 774ms\n",
      "522:\tlearn: 0.6292779\ttotal: 847ms\tremaining: 772ms\n",
      "523:\tlearn: 0.6292183\ttotal: 849ms\tremaining: 771ms\n",
      "524:\tlearn: 0.6291077\ttotal: 850ms\tremaining: 769ms\n",
      "525:\tlearn: 0.6289936\ttotal: 852ms\tremaining: 767ms\n",
      "526:\tlearn: 0.6288515\ttotal: 853ms\tremaining: 766ms\n",
      "527:\tlearn: 0.6288054\ttotal: 854ms\tremaining: 764ms\n",
      "528:\tlearn: 0.6286955\ttotal: 856ms\tremaining: 762ms\n",
      "529:\tlearn: 0.6285848\ttotal: 858ms\tremaining: 760ms\n",
      "530:\tlearn: 0.6284888\ttotal: 859ms\tremaining: 759ms\n",
      "531:\tlearn: 0.6283875\ttotal: 861ms\tremaining: 757ms\n",
      "532:\tlearn: 0.6283041\ttotal: 862ms\tremaining: 756ms\n",
      "533:\tlearn: 0.6281668\ttotal: 864ms\tremaining: 754ms\n",
      "534:\tlearn: 0.6281063\ttotal: 866ms\tremaining: 753ms\n",
      "535:\tlearn: 0.6280075\ttotal: 867ms\tremaining: 751ms\n",
      "536:\tlearn: 0.6279171\ttotal: 869ms\tremaining: 749ms\n",
      "537:\tlearn: 0.6278234\ttotal: 870ms\tremaining: 747ms\n",
      "538:\tlearn: 0.6277730\ttotal: 872ms\tremaining: 746ms\n",
      "539:\tlearn: 0.6277180\ttotal: 873ms\tremaining: 744ms\n",
      "540:\tlearn: 0.6276647\ttotal: 875ms\tremaining: 742ms\n",
      "541:\tlearn: 0.6276121\ttotal: 876ms\tremaining: 740ms\n",
      "542:\tlearn: 0.6275313\ttotal: 877ms\tremaining: 738ms\n",
      "543:\tlearn: 0.6274088\ttotal: 879ms\tremaining: 737ms\n",
      "544:\tlearn: 0.6273730\ttotal: 881ms\tremaining: 736ms\n",
      "545:\tlearn: 0.6272608\ttotal: 883ms\tremaining: 734ms\n",
      "546:\tlearn: 0.6272226\ttotal: 885ms\tremaining: 733ms\n",
      "547:\tlearn: 0.6271355\ttotal: 886ms\tremaining: 731ms\n",
      "548:\tlearn: 0.6270140\ttotal: 888ms\tremaining: 729ms\n",
      "549:\tlearn: 0.6269199\ttotal: 889ms\tremaining: 727ms\n",
      "550:\tlearn: 0.6268406\ttotal: 890ms\tremaining: 726ms\n",
      "551:\tlearn: 0.6268007\ttotal: 892ms\tremaining: 724ms\n",
      "552:\tlearn: 0.6266675\ttotal: 893ms\tremaining: 722ms\n",
      "553:\tlearn: 0.6265948\ttotal: 895ms\tremaining: 720ms\n",
      "554:\tlearn: 0.6264967\ttotal: 897ms\tremaining: 719ms\n",
      "555:\tlearn: 0.6263984\ttotal: 898ms\tremaining: 717ms\n",
      "556:\tlearn: 0.6262700\ttotal: 900ms\tremaining: 716ms\n",
      "557:\tlearn: 0.6261787\ttotal: 901ms\tremaining: 714ms\n",
      "558:\tlearn: 0.6261021\ttotal: 903ms\tremaining: 712ms\n",
      "559:\tlearn: 0.6259692\ttotal: 904ms\tremaining: 710ms\n",
      "560:\tlearn: 0.6258659\ttotal: 906ms\tremaining: 709ms\n",
      "561:\tlearn: 0.6257474\ttotal: 907ms\tremaining: 707ms\n",
      "562:\tlearn: 0.6256593\ttotal: 909ms\tremaining: 705ms\n",
      "563:\tlearn: 0.6256407\ttotal: 910ms\tremaining: 703ms\n",
      "564:\tlearn: 0.6255679\ttotal: 912ms\tremaining: 702ms\n",
      "565:\tlearn: 0.6255145\ttotal: 914ms\tremaining: 701ms\n",
      "566:\tlearn: 0.6253848\ttotal: 915ms\tremaining: 699ms\n",
      "567:\tlearn: 0.6253167\ttotal: 917ms\tremaining: 697ms\n",
      "568:\tlearn: 0.6252404\ttotal: 918ms\tremaining: 696ms\n",
      "569:\tlearn: 0.6251859\ttotal: 920ms\tremaining: 694ms\n",
      "570:\tlearn: 0.6251720\ttotal: 921ms\tremaining: 692ms\n",
      "571:\tlearn: 0.6250658\ttotal: 923ms\tremaining: 691ms\n",
      "572:\tlearn: 0.6249895\ttotal: 925ms\tremaining: 689ms\n",
      "573:\tlearn: 0.6249251\ttotal: 926ms\tremaining: 688ms\n",
      "574:\tlearn: 0.6248553\ttotal: 928ms\tremaining: 686ms\n",
      "575:\tlearn: 0.6247780\ttotal: 930ms\tremaining: 685ms\n",
      "576:\tlearn: 0.6246652\ttotal: 932ms\tremaining: 683ms\n",
      "577:\tlearn: 0.6246040\ttotal: 933ms\tremaining: 681ms\n",
      "578:\tlearn: 0.6245108\ttotal: 935ms\tremaining: 680ms\n",
      "579:\tlearn: 0.6244995\ttotal: 936ms\tremaining: 678ms\n",
      "580:\tlearn: 0.6244333\ttotal: 938ms\tremaining: 676ms\n",
      "581:\tlearn: 0.6243839\ttotal: 939ms\tremaining: 674ms\n",
      "582:\tlearn: 0.6242386\ttotal: 941ms\tremaining: 673ms\n",
      "583:\tlearn: 0.6241920\ttotal: 942ms\tremaining: 671ms\n",
      "584:\tlearn: 0.6240743\ttotal: 944ms\tremaining: 670ms\n",
      "585:\tlearn: 0.6240255\ttotal: 945ms\tremaining: 668ms\n",
      "586:\tlearn: 0.6239869\ttotal: 947ms\tremaining: 666ms\n",
      "587:\tlearn: 0.6239392\ttotal: 948ms\tremaining: 664ms\n",
      "588:\tlearn: 0.6238910\ttotal: 950ms\tremaining: 663ms\n",
      "589:\tlearn: 0.6238254\ttotal: 951ms\tremaining: 661ms\n",
      "590:\tlearn: 0.6237737\ttotal: 953ms\tremaining: 659ms\n",
      "591:\tlearn: 0.6237630\ttotal: 954ms\tremaining: 658ms\n",
      "592:\tlearn: 0.6236666\ttotal: 956ms\tremaining: 656ms\n",
      "593:\tlearn: 0.6235668\ttotal: 957ms\tremaining: 654ms\n",
      "594:\tlearn: 0.6235129\ttotal: 960ms\tremaining: 653ms\n",
      "595:\tlearn: 0.6234692\ttotal: 962ms\tremaining: 652ms\n",
      "596:\tlearn: 0.6234155\ttotal: 964ms\tremaining: 650ms\n",
      "597:\tlearn: 0.6233755\ttotal: 965ms\tremaining: 649ms\n",
      "598:\tlearn: 0.6232502\ttotal: 967ms\tremaining: 647ms\n",
      "599:\tlearn: 0.6231542\ttotal: 968ms\tremaining: 646ms\n",
      "600:\tlearn: 0.6230623\ttotal: 970ms\tremaining: 644ms\n",
      "601:\tlearn: 0.6229472\ttotal: 972ms\tremaining: 642ms\n",
      "602:\tlearn: 0.6228202\ttotal: 974ms\tremaining: 641ms\n",
      "603:\tlearn: 0.6227223\ttotal: 976ms\tremaining: 640ms\n",
      "604:\tlearn: 0.6226917\ttotal: 978ms\tremaining: 638ms\n",
      "605:\tlearn: 0.6226243\ttotal: 979ms\tremaining: 637ms\n",
      "606:\tlearn: 0.6225931\ttotal: 981ms\tremaining: 635ms\n",
      "607:\tlearn: 0.6225032\ttotal: 982ms\tremaining: 633ms\n",
      "608:\tlearn: 0.6223873\ttotal: 984ms\tremaining: 632ms\n",
      "609:\tlearn: 0.6222629\ttotal: 985ms\tremaining: 630ms\n",
      "610:\tlearn: 0.6221917\ttotal: 987ms\tremaining: 628ms\n",
      "611:\tlearn: 0.6220835\ttotal: 988ms\tremaining: 626ms\n",
      "612:\tlearn: 0.6219874\ttotal: 989ms\tremaining: 625ms\n",
      "613:\tlearn: 0.6218655\ttotal: 991ms\tremaining: 623ms\n",
      "614:\tlearn: 0.6218172\ttotal: 993ms\tremaining: 622ms\n",
      "615:\tlearn: 0.6217478\ttotal: 994ms\tremaining: 620ms\n",
      "616:\tlearn: 0.6217037\ttotal: 996ms\tremaining: 618ms\n",
      "617:\tlearn: 0.6216423\ttotal: 997ms\tremaining: 616ms\n",
      "618:\tlearn: 0.6215456\ttotal: 999ms\tremaining: 615ms\n",
      "619:\tlearn: 0.6215028\ttotal: 1s\tremaining: 613ms\n",
      "620:\tlearn: 0.6213763\ttotal: 1s\tremaining: 611ms\n",
      "621:\tlearn: 0.6213031\ttotal: 1s\tremaining: 610ms\n",
      "622:\tlearn: 0.6212390\ttotal: 1s\tremaining: 608ms\n",
      "623:\tlearn: 0.6212067\ttotal: 1.01s\tremaining: 606ms\n",
      "624:\tlearn: 0.6211725\ttotal: 1.01s\tremaining: 605ms\n",
      "625:\tlearn: 0.6210503\ttotal: 1.01s\tremaining: 603ms\n",
      "626:\tlearn: 0.6209461\ttotal: 1.01s\tremaining: 602ms\n",
      "627:\tlearn: 0.6209113\ttotal: 1.01s\tremaining: 600ms\n",
      "628:\tlearn: 0.6208620\ttotal: 1.01s\tremaining: 598ms\n",
      "629:\tlearn: 0.6208218\ttotal: 1.01s\tremaining: 597ms\n",
      "630:\tlearn: 0.6207794\ttotal: 1.02s\tremaining: 595ms\n",
      "631:\tlearn: 0.6207369\ttotal: 1.02s\tremaining: 593ms\n",
      "632:\tlearn: 0.6206109\ttotal: 1.02s\tremaining: 591ms\n",
      "633:\tlearn: 0.6205120\ttotal: 1.02s\tremaining: 590ms\n",
      "634:\tlearn: 0.6204682\ttotal: 1.02s\tremaining: 588ms\n",
      "635:\tlearn: 0.6204176\ttotal: 1.02s\tremaining: 587ms\n",
      "636:\tlearn: 0.6203631\ttotal: 1.03s\tremaining: 585ms\n",
      "637:\tlearn: 0.6203366\ttotal: 1.03s\tremaining: 583ms\n",
      "638:\tlearn: 0.6202888\ttotal: 1.03s\tremaining: 582ms\n",
      "639:\tlearn: 0.6202613\ttotal: 1.03s\tremaining: 580ms\n",
      "640:\tlearn: 0.6201571\ttotal: 1.03s\tremaining: 578ms\n",
      "641:\tlearn: 0.6201179\ttotal: 1.03s\tremaining: 576ms\n",
      "642:\tlearn: 0.6200774\ttotal: 1.03s\tremaining: 575ms\n",
      "643:\tlearn: 0.6199747\ttotal: 1.04s\tremaining: 573ms\n",
      "644:\tlearn: 0.6198517\ttotal: 1.04s\tremaining: 572ms\n",
      "645:\tlearn: 0.6197310\ttotal: 1.04s\tremaining: 570ms\n",
      "646:\tlearn: 0.6196483\ttotal: 1.04s\tremaining: 568ms\n",
      "647:\tlearn: 0.6196038\ttotal: 1.04s\tremaining: 567ms\n",
      "648:\tlearn: 0.6195252\ttotal: 1.04s\tremaining: 565ms\n",
      "649:\tlearn: 0.6194305\ttotal: 1.05s\tremaining: 563ms\n",
      "650:\tlearn: 0.6193431\ttotal: 1.05s\tremaining: 562ms\n",
      "651:\tlearn: 0.6192978\ttotal: 1.05s\tremaining: 560ms\n",
      "652:\tlearn: 0.6192365\ttotal: 1.05s\tremaining: 558ms\n",
      "653:\tlearn: 0.6191760\ttotal: 1.05s\tremaining: 557ms\n",
      "654:\tlearn: 0.6191368\ttotal: 1.05s\tremaining: 555ms\n",
      "655:\tlearn: 0.6190942\ttotal: 1.05s\tremaining: 554ms\n",
      "656:\tlearn: 0.6189891\ttotal: 1.06s\tremaining: 552ms\n",
      "657:\tlearn: 0.6189431\ttotal: 1.06s\tremaining: 551ms\n",
      "658:\tlearn: 0.6189095\ttotal: 1.06s\tremaining: 549ms\n",
      "659:\tlearn: 0.6188369\ttotal: 1.06s\tremaining: 547ms\n",
      "660:\tlearn: 0.6187161\ttotal: 1.06s\tremaining: 545ms\n",
      "661:\tlearn: 0.6186595\ttotal: 1.06s\tremaining: 544ms\n",
      "662:\tlearn: 0.6186224\ttotal: 1.07s\tremaining: 542ms\n",
      "663:\tlearn: 0.6185474\ttotal: 1.07s\tremaining: 540ms\n",
      "664:\tlearn: 0.6184884\ttotal: 1.07s\tremaining: 539ms\n",
      "665:\tlearn: 0.6184709\ttotal: 1.07s\tremaining: 537ms\n",
      "666:\tlearn: 0.6183472\ttotal: 1.07s\tremaining: 536ms\n",
      "667:\tlearn: 0.6182681\ttotal: 1.07s\tremaining: 534ms\n",
      "668:\tlearn: 0.6182393\ttotal: 1.08s\tremaining: 533ms\n",
      "669:\tlearn: 0.6182309\ttotal: 1.08s\tremaining: 531ms\n",
      "670:\tlearn: 0.6181858\ttotal: 1.08s\tremaining: 529ms\n",
      "671:\tlearn: 0.6181148\ttotal: 1.08s\tremaining: 528ms\n",
      "672:\tlearn: 0.6180809\ttotal: 1.08s\tremaining: 526ms\n",
      "673:\tlearn: 0.6179954\ttotal: 1.08s\tremaining: 524ms\n",
      "674:\tlearn: 0.6178532\ttotal: 1.09s\tremaining: 523ms\n",
      "675:\tlearn: 0.6178409\ttotal: 1.09s\tremaining: 521ms\n",
      "676:\tlearn: 0.6177801\ttotal: 1.09s\tremaining: 520ms\n",
      "677:\tlearn: 0.6176700\ttotal: 1.09s\tremaining: 518ms\n",
      "678:\tlearn: 0.6175193\ttotal: 1.09s\tremaining: 517ms\n",
      "679:\tlearn: 0.6174094\ttotal: 1.09s\tremaining: 515ms\n",
      "680:\tlearn: 0.6173678\ttotal: 1.09s\tremaining: 513ms\n",
      "681:\tlearn: 0.6173390\ttotal: 1.1s\tremaining: 512ms\n",
      "682:\tlearn: 0.6172346\ttotal: 1.1s\tremaining: 510ms\n",
      "683:\tlearn: 0.6171908\ttotal: 1.1s\tremaining: 508ms\n",
      "684:\tlearn: 0.6171496\ttotal: 1.1s\tremaining: 507ms\n",
      "685:\tlearn: 0.6170629\ttotal: 1.1s\tremaining: 505ms\n",
      "686:\tlearn: 0.6169744\ttotal: 1.1s\tremaining: 503ms\n",
      "687:\tlearn: 0.6169050\ttotal: 1.11s\tremaining: 502ms\n",
      "688:\tlearn: 0.6168160\ttotal: 1.11s\tremaining: 500ms\n",
      "689:\tlearn: 0.6167072\ttotal: 1.11s\tremaining: 499ms\n",
      "690:\tlearn: 0.6165781\ttotal: 1.11s\tremaining: 497ms\n",
      "691:\tlearn: 0.6164771\ttotal: 1.11s\tremaining: 495ms\n",
      "692:\tlearn: 0.6163766\ttotal: 1.11s\tremaining: 494ms\n",
      "693:\tlearn: 0.6163326\ttotal: 1.11s\tremaining: 492ms\n",
      "694:\tlearn: 0.6162807\ttotal: 1.12s\tremaining: 490ms\n",
      "695:\tlearn: 0.6161862\ttotal: 1.12s\tremaining: 489ms\n",
      "696:\tlearn: 0.6161358\ttotal: 1.12s\tremaining: 487ms\n",
      "697:\tlearn: 0.6160472\ttotal: 1.12s\tremaining: 485ms\n",
      "698:\tlearn: 0.6159414\ttotal: 1.12s\tremaining: 484ms\n",
      "699:\tlearn: 0.6159110\ttotal: 1.12s\tremaining: 482ms\n",
      "700:\tlearn: 0.6158689\ttotal: 1.13s\tremaining: 480ms\n",
      "701:\tlearn: 0.6157292\ttotal: 1.13s\tremaining: 479ms\n",
      "702:\tlearn: 0.6157010\ttotal: 1.13s\tremaining: 477ms\n",
      "703:\tlearn: 0.6155850\ttotal: 1.13s\tremaining: 476ms\n",
      "704:\tlearn: 0.6155000\ttotal: 1.13s\tremaining: 474ms\n",
      "705:\tlearn: 0.6153826\ttotal: 1.13s\tremaining: 472ms\n",
      "706:\tlearn: 0.6153580\ttotal: 1.14s\tremaining: 471ms\n",
      "707:\tlearn: 0.6153148\ttotal: 1.14s\tremaining: 469ms\n",
      "708:\tlearn: 0.6152627\ttotal: 1.14s\tremaining: 468ms\n",
      "709:\tlearn: 0.6151455\ttotal: 1.14s\tremaining: 466ms\n",
      "710:\tlearn: 0.6150555\ttotal: 1.14s\tremaining: 464ms\n",
      "711:\tlearn: 0.6150255\ttotal: 1.14s\tremaining: 463ms\n",
      "712:\tlearn: 0.6149578\ttotal: 1.15s\tremaining: 461ms\n",
      "713:\tlearn: 0.6149223\ttotal: 1.15s\tremaining: 459ms\n",
      "714:\tlearn: 0.6148875\ttotal: 1.15s\tremaining: 458ms\n",
      "715:\tlearn: 0.6148104\ttotal: 1.15s\tremaining: 456ms\n",
      "716:\tlearn: 0.6147248\ttotal: 1.15s\tremaining: 455ms\n",
      "717:\tlearn: 0.6146151\ttotal: 1.16s\tremaining: 454ms\n",
      "718:\tlearn: 0.6145197\ttotal: 1.16s\tremaining: 452ms\n",
      "719:\tlearn: 0.6144739\ttotal: 1.16s\tremaining: 451ms\n",
      "720:\tlearn: 0.6144329\ttotal: 1.16s\tremaining: 449ms\n",
      "721:\tlearn: 0.6143832\ttotal: 1.16s\tremaining: 448ms\n",
      "722:\tlearn: 0.6143031\ttotal: 1.16s\tremaining: 446ms\n",
      "723:\tlearn: 0.6142673\ttotal: 1.17s\tremaining: 445ms\n",
      "724:\tlearn: 0.6142246\ttotal: 1.17s\tremaining: 443ms\n",
      "725:\tlearn: 0.6141099\ttotal: 1.17s\tremaining: 441ms\n",
      "726:\tlearn: 0.6140280\ttotal: 1.17s\tremaining: 440ms\n",
      "727:\tlearn: 0.6140074\ttotal: 1.17s\tremaining: 438ms\n",
      "728:\tlearn: 0.6139653\ttotal: 1.18s\tremaining: 437ms\n",
      "729:\tlearn: 0.6139304\ttotal: 1.18s\tremaining: 435ms\n",
      "730:\tlearn: 0.6138362\ttotal: 1.18s\tremaining: 434ms\n",
      "731:\tlearn: 0.6137429\ttotal: 1.18s\tremaining: 432ms\n",
      "732:\tlearn: 0.6136340\ttotal: 1.18s\tremaining: 431ms\n",
      "733:\tlearn: 0.6135356\ttotal: 1.18s\tremaining: 429ms\n",
      "734:\tlearn: 0.6134879\ttotal: 1.19s\tremaining: 428ms\n",
      "735:\tlearn: 0.6134739\ttotal: 1.19s\tremaining: 426ms\n",
      "736:\tlearn: 0.6134093\ttotal: 1.19s\tremaining: 425ms\n",
      "737:\tlearn: 0.6133287\ttotal: 1.19s\tremaining: 423ms\n",
      "738:\tlearn: 0.6133112\ttotal: 1.19s\tremaining: 421ms\n",
      "739:\tlearn: 0.6132379\ttotal: 1.2s\tremaining: 420ms\n",
      "740:\tlearn: 0.6132118\ttotal: 1.2s\tremaining: 418ms\n",
      "741:\tlearn: 0.6131233\ttotal: 1.2s\tremaining: 417ms\n",
      "742:\tlearn: 0.6131055\ttotal: 1.2s\tremaining: 415ms\n",
      "743:\tlearn: 0.6130679\ttotal: 1.2s\tremaining: 414ms\n",
      "744:\tlearn: 0.6129947\ttotal: 1.2s\tremaining: 412ms\n",
      "745:\tlearn: 0.6129066\ttotal: 1.21s\tremaining: 410ms\n",
      "746:\tlearn: 0.6128024\ttotal: 1.21s\tremaining: 409ms\n",
      "747:\tlearn: 0.6127590\ttotal: 1.21s\tremaining: 407ms\n",
      "748:\tlearn: 0.6127196\ttotal: 1.21s\tremaining: 406ms\n",
      "749:\tlearn: 0.6126831\ttotal: 1.21s\tremaining: 404ms\n",
      "750:\tlearn: 0.6125802\ttotal: 1.21s\tremaining: 403ms\n",
      "751:\tlearn: 0.6124580\ttotal: 1.22s\tremaining: 401ms\n",
      "752:\tlearn: 0.6123643\ttotal: 1.22s\tremaining: 400ms\n",
      "753:\tlearn: 0.6123052\ttotal: 1.22s\tremaining: 398ms\n",
      "754:\tlearn: 0.6122867\ttotal: 1.22s\tremaining: 397ms\n",
      "755:\tlearn: 0.6122220\ttotal: 1.23s\tremaining: 396ms\n",
      "756:\tlearn: 0.6121673\ttotal: 1.23s\tremaining: 394ms\n",
      "757:\tlearn: 0.6120770\ttotal: 1.23s\tremaining: 393ms\n",
      "758:\tlearn: 0.6120153\ttotal: 1.23s\tremaining: 391ms\n",
      "759:\tlearn: 0.6119057\ttotal: 1.23s\tremaining: 390ms\n",
      "760:\tlearn: 0.6117890\ttotal: 1.24s\tremaining: 389ms\n",
      "761:\tlearn: 0.6117309\ttotal: 1.24s\tremaining: 387ms\n",
      "762:\tlearn: 0.6116857\ttotal: 1.24s\tremaining: 385ms\n",
      "763:\tlearn: 0.6116533\ttotal: 1.24s\tremaining: 384ms\n",
      "764:\tlearn: 0.6115562\ttotal: 1.25s\tremaining: 383ms\n",
      "765:\tlearn: 0.6115111\ttotal: 1.25s\tremaining: 381ms\n",
      "766:\tlearn: 0.6114558\ttotal: 1.25s\tremaining: 379ms\n",
      "767:\tlearn: 0.6114440\ttotal: 1.25s\tremaining: 378ms\n",
      "768:\tlearn: 0.6112949\ttotal: 1.25s\tremaining: 376ms\n",
      "769:\tlearn: 0.6112549\ttotal: 1.25s\tremaining: 375ms\n",
      "770:\tlearn: 0.6111766\ttotal: 1.26s\tremaining: 373ms\n",
      "771:\tlearn: 0.6111408\ttotal: 1.26s\tremaining: 372ms\n",
      "772:\tlearn: 0.6110479\ttotal: 1.26s\tremaining: 370ms\n",
      "773:\tlearn: 0.6109955\ttotal: 1.26s\tremaining: 369ms\n",
      "774:\tlearn: 0.6109528\ttotal: 1.26s\tremaining: 367ms\n",
      "775:\tlearn: 0.6109054\ttotal: 1.27s\tremaining: 366ms\n",
      "776:\tlearn: 0.6108367\ttotal: 1.27s\tremaining: 364ms\n",
      "777:\tlearn: 0.6107826\ttotal: 1.27s\tremaining: 363ms\n",
      "778:\tlearn: 0.6107271\ttotal: 1.27s\tremaining: 361ms\n",
      "779:\tlearn: 0.6106481\ttotal: 1.27s\tremaining: 359ms\n",
      "780:\tlearn: 0.6106062\ttotal: 1.28s\tremaining: 358ms\n",
      "781:\tlearn: 0.6105010\ttotal: 1.28s\tremaining: 356ms\n",
      "782:\tlearn: 0.6104212\ttotal: 1.28s\tremaining: 355ms\n",
      "783:\tlearn: 0.6103772\ttotal: 1.28s\tremaining: 353ms\n",
      "784:\tlearn: 0.6103002\ttotal: 1.28s\tremaining: 352ms\n",
      "785:\tlearn: 0.6102220\ttotal: 1.28s\tremaining: 350ms\n",
      "786:\tlearn: 0.6101503\ttotal: 1.29s\tremaining: 348ms\n",
      "787:\tlearn: 0.6101347\ttotal: 1.29s\tremaining: 347ms\n",
      "788:\tlearn: 0.6100366\ttotal: 1.29s\tremaining: 345ms\n",
      "789:\tlearn: 0.6099368\ttotal: 1.29s\tremaining: 344ms\n",
      "790:\tlearn: 0.6098793\ttotal: 1.29s\tremaining: 342ms\n",
      "791:\tlearn: 0.6097674\ttotal: 1.3s\tremaining: 340ms\n",
      "792:\tlearn: 0.6097283\ttotal: 1.3s\tremaining: 339ms\n",
      "793:\tlearn: 0.6096641\ttotal: 1.3s\tremaining: 337ms\n",
      "794:\tlearn: 0.6095596\ttotal: 1.3s\tremaining: 336ms\n",
      "795:\tlearn: 0.6095319\ttotal: 1.3s\tremaining: 334ms\n",
      "796:\tlearn: 0.6094804\ttotal: 1.3s\tremaining: 332ms\n",
      "797:\tlearn: 0.6094400\ttotal: 1.31s\tremaining: 331ms\n",
      "798:\tlearn: 0.6094012\ttotal: 1.31s\tremaining: 329ms\n",
      "799:\tlearn: 0.6093930\ttotal: 1.31s\tremaining: 328ms\n",
      "800:\tlearn: 0.6092866\ttotal: 1.31s\tremaining: 326ms\n",
      "801:\tlearn: 0.6091919\ttotal: 1.31s\tremaining: 324ms\n",
      "802:\tlearn: 0.6091536\ttotal: 1.31s\tremaining: 323ms\n",
      "803:\tlearn: 0.6091136\ttotal: 1.32s\tremaining: 321ms\n",
      "804:\tlearn: 0.6090800\ttotal: 1.32s\tremaining: 320ms\n",
      "805:\tlearn: 0.6090431\ttotal: 1.32s\tremaining: 318ms\n",
      "806:\tlearn: 0.6089737\ttotal: 1.32s\tremaining: 316ms\n",
      "807:\tlearn: 0.6089492\ttotal: 1.32s\tremaining: 315ms\n",
      "808:\tlearn: 0.6088686\ttotal: 1.33s\tremaining: 313ms\n",
      "809:\tlearn: 0.6087586\ttotal: 1.33s\tremaining: 312ms\n",
      "810:\tlearn: 0.6086932\ttotal: 1.33s\tremaining: 310ms\n",
      "811:\tlearn: 0.6086239\ttotal: 1.33s\tremaining: 308ms\n",
      "812:\tlearn: 0.6085394\ttotal: 1.33s\tremaining: 307ms\n",
      "813:\tlearn: 0.6085175\ttotal: 1.33s\tremaining: 305ms\n",
      "814:\tlearn: 0.6084040\ttotal: 1.33s\tremaining: 303ms\n",
      "815:\tlearn: 0.6083855\ttotal: 1.34s\tremaining: 302ms\n",
      "816:\tlearn: 0.6082901\ttotal: 1.34s\tremaining: 300ms\n",
      "817:\tlearn: 0.6081984\ttotal: 1.34s\tremaining: 298ms\n",
      "818:\tlearn: 0.6080904\ttotal: 1.34s\tremaining: 297ms\n",
      "819:\tlearn: 0.6079933\ttotal: 1.34s\tremaining: 295ms\n",
      "820:\tlearn: 0.6078849\ttotal: 1.35s\tremaining: 294ms\n",
      "821:\tlearn: 0.6077507\ttotal: 1.35s\tremaining: 292ms\n",
      "822:\tlearn: 0.6076779\ttotal: 1.35s\tremaining: 290ms\n",
      "823:\tlearn: 0.6076231\ttotal: 1.35s\tremaining: 289ms\n",
      "824:\tlearn: 0.6076065\ttotal: 1.35s\tremaining: 287ms\n",
      "825:\tlearn: 0.6075549\ttotal: 1.35s\tremaining: 285ms\n",
      "826:\tlearn: 0.6074357\ttotal: 1.35s\tremaining: 284ms\n",
      "827:\tlearn: 0.6074041\ttotal: 1.36s\tremaining: 282ms\n",
      "828:\tlearn: 0.6073186\ttotal: 1.36s\tremaining: 280ms\n",
      "829:\tlearn: 0.6072749\ttotal: 1.36s\tremaining: 279ms\n",
      "830:\tlearn: 0.6072388\ttotal: 1.36s\tremaining: 277ms\n",
      "831:\tlearn: 0.6071682\ttotal: 1.36s\tremaining: 275ms\n",
      "832:\tlearn: 0.6070833\ttotal: 1.36s\tremaining: 274ms\n",
      "833:\tlearn: 0.6070224\ttotal: 1.37s\tremaining: 272ms\n",
      "834:\tlearn: 0.6069884\ttotal: 1.37s\tremaining: 270ms\n",
      "835:\tlearn: 0.6068779\ttotal: 1.37s\tremaining: 269ms\n",
      "836:\tlearn: 0.6068268\ttotal: 1.37s\tremaining: 267ms\n",
      "837:\tlearn: 0.6067916\ttotal: 1.37s\tremaining: 265ms\n",
      "838:\tlearn: 0.6067210\ttotal: 1.37s\tremaining: 264ms\n",
      "839:\tlearn: 0.6066523\ttotal: 1.38s\tremaining: 262ms\n",
      "840:\tlearn: 0.6066185\ttotal: 1.38s\tremaining: 260ms\n",
      "841:\tlearn: 0.6065731\ttotal: 1.38s\tremaining: 259ms\n",
      "842:\tlearn: 0.6065157\ttotal: 1.38s\tremaining: 257ms\n",
      "843:\tlearn: 0.6064432\ttotal: 1.38s\tremaining: 255ms\n",
      "844:\tlearn: 0.6063859\ttotal: 1.38s\tremaining: 254ms\n",
      "845:\tlearn: 0.6063770\ttotal: 1.39s\tremaining: 252ms\n",
      "846:\tlearn: 0.6063367\ttotal: 1.39s\tremaining: 250ms\n",
      "847:\tlearn: 0.6062171\ttotal: 1.39s\tremaining: 249ms\n",
      "848:\tlearn: 0.6061177\ttotal: 1.39s\tremaining: 247ms\n",
      "849:\tlearn: 0.6061075\ttotal: 1.39s\tremaining: 245ms\n",
      "850:\tlearn: 0.6060983\ttotal: 1.39s\tremaining: 244ms\n",
      "851:\tlearn: 0.6060274\ttotal: 1.39s\tremaining: 242ms\n",
      "852:\tlearn: 0.6059979\ttotal: 1.4s\tremaining: 240ms\n",
      "853:\tlearn: 0.6059393\ttotal: 1.4s\tremaining: 239ms\n",
      "854:\tlearn: 0.6059105\ttotal: 1.4s\tremaining: 237ms\n",
      "855:\tlearn: 0.6058830\ttotal: 1.4s\tremaining: 235ms\n",
      "856:\tlearn: 0.6058331\ttotal: 1.4s\tremaining: 234ms\n",
      "857:\tlearn: 0.6057771\ttotal: 1.4s\tremaining: 232ms\n",
      "858:\tlearn: 0.6056723\ttotal: 1.4s\tremaining: 231ms\n",
      "859:\tlearn: 0.6055707\ttotal: 1.41s\tremaining: 229ms\n",
      "860:\tlearn: 0.6054715\ttotal: 1.41s\tremaining: 227ms\n",
      "861:\tlearn: 0.6054362\ttotal: 1.41s\tremaining: 226ms\n",
      "862:\tlearn: 0.6053738\ttotal: 1.41s\tremaining: 224ms\n",
      "863:\tlearn: 0.6053267\ttotal: 1.41s\tremaining: 222ms\n",
      "864:\tlearn: 0.6052415\ttotal: 1.41s\tremaining: 221ms\n",
      "865:\tlearn: 0.6051270\ttotal: 1.41s\tremaining: 219ms\n",
      "866:\tlearn: 0.6050636\ttotal: 1.42s\tremaining: 217ms\n",
      "867:\tlearn: 0.6050302\ttotal: 1.42s\tremaining: 216ms\n",
      "868:\tlearn: 0.6049879\ttotal: 1.42s\tremaining: 214ms\n",
      "869:\tlearn: 0.6049273\ttotal: 1.42s\tremaining: 212ms\n",
      "870:\tlearn: 0.6048280\ttotal: 1.42s\tremaining: 211ms\n",
      "871:\tlearn: 0.6047742\ttotal: 1.42s\tremaining: 209ms\n",
      "872:\tlearn: 0.6047001\ttotal: 1.43s\tremaining: 207ms\n",
      "873:\tlearn: 0.6046175\ttotal: 1.43s\tremaining: 206ms\n",
      "874:\tlearn: 0.6045479\ttotal: 1.43s\tremaining: 204ms\n",
      "875:\tlearn: 0.6044831\ttotal: 1.43s\tremaining: 202ms\n",
      "876:\tlearn: 0.6044149\ttotal: 1.43s\tremaining: 201ms\n",
      "877:\tlearn: 0.6043296\ttotal: 1.43s\tremaining: 199ms\n",
      "878:\tlearn: 0.6042982\ttotal: 1.43s\tremaining: 197ms\n",
      "879:\tlearn: 0.6042714\ttotal: 1.44s\tremaining: 196ms\n",
      "880:\tlearn: 0.6042394\ttotal: 1.44s\tremaining: 194ms\n",
      "881:\tlearn: 0.6042339\ttotal: 1.44s\tremaining: 193ms\n",
      "882:\tlearn: 0.6041566\ttotal: 1.44s\tremaining: 191ms\n",
      "883:\tlearn: 0.6040622\ttotal: 1.44s\tremaining: 189ms\n",
      "884:\tlearn: 0.6040400\ttotal: 1.44s\tremaining: 188ms\n",
      "885:\tlearn: 0.6039789\ttotal: 1.45s\tremaining: 186ms\n",
      "886:\tlearn: 0.6039552\ttotal: 1.45s\tremaining: 184ms\n",
      "887:\tlearn: 0.6038393\ttotal: 1.45s\tremaining: 183ms\n",
      "888:\tlearn: 0.6038197\ttotal: 1.45s\tremaining: 181ms\n",
      "889:\tlearn: 0.6037695\ttotal: 1.45s\tremaining: 179ms\n",
      "890:\tlearn: 0.6036446\ttotal: 1.45s\tremaining: 178ms\n",
      "891:\tlearn: 0.6036017\ttotal: 1.45s\tremaining: 176ms\n",
      "892:\tlearn: 0.6035621\ttotal: 1.46s\tremaining: 174ms\n",
      "893:\tlearn: 0.6035051\ttotal: 1.46s\tremaining: 173ms\n",
      "894:\tlearn: 0.6034773\ttotal: 1.46s\tremaining: 171ms\n",
      "895:\tlearn: 0.6034685\ttotal: 1.46s\tremaining: 170ms\n",
      "896:\tlearn: 0.6033988\ttotal: 1.46s\tremaining: 168ms\n",
      "897:\tlearn: 0.6033799\ttotal: 1.46s\tremaining: 166ms\n",
      "898:\tlearn: 0.6032866\ttotal: 1.47s\tremaining: 165ms\n",
      "899:\tlearn: 0.6032546\ttotal: 1.47s\tremaining: 163ms\n",
      "900:\tlearn: 0.6032209\ttotal: 1.47s\tremaining: 161ms\n",
      "901:\tlearn: 0.6030958\ttotal: 1.47s\tremaining: 160ms\n",
      "902:\tlearn: 0.6030867\ttotal: 1.47s\tremaining: 158ms\n",
      "903:\tlearn: 0.6030156\ttotal: 1.47s\tremaining: 156ms\n",
      "904:\tlearn: 0.6029795\ttotal: 1.47s\tremaining: 155ms\n",
      "905:\tlearn: 0.6029636\ttotal: 1.48s\tremaining: 153ms\n",
      "906:\tlearn: 0.6029358\ttotal: 1.48s\tremaining: 152ms\n",
      "907:\tlearn: 0.6028745\ttotal: 1.48s\tremaining: 150ms\n",
      "908:\tlearn: 0.6027998\ttotal: 1.48s\tremaining: 148ms\n",
      "909:\tlearn: 0.6027115\ttotal: 1.48s\tremaining: 147ms\n",
      "910:\tlearn: 0.6026634\ttotal: 1.48s\tremaining: 145ms\n",
      "911:\tlearn: 0.6026523\ttotal: 1.49s\tremaining: 143ms\n",
      "912:\tlearn: 0.6026283\ttotal: 1.49s\tremaining: 142ms\n",
      "913:\tlearn: 0.6026107\ttotal: 1.49s\tremaining: 140ms\n",
      "914:\tlearn: 0.6025328\ttotal: 1.49s\tremaining: 138ms\n",
      "915:\tlearn: 0.6025215\ttotal: 1.49s\tremaining: 137ms\n",
      "916:\tlearn: 0.6024426\ttotal: 1.49s\tremaining: 135ms\n",
      "917:\tlearn: 0.6024129\ttotal: 1.49s\tremaining: 134ms\n",
      "918:\tlearn: 0.6023883\ttotal: 1.5s\tremaining: 132ms\n",
      "919:\tlearn: 0.6023707\ttotal: 1.5s\tremaining: 130ms\n",
      "920:\tlearn: 0.6022897\ttotal: 1.5s\tremaining: 129ms\n",
      "921:\tlearn: 0.6022153\ttotal: 1.5s\tremaining: 127ms\n",
      "922:\tlearn: 0.6021188\ttotal: 1.5s\tremaining: 125ms\n",
      "923:\tlearn: 0.6020746\ttotal: 1.5s\tremaining: 124ms\n",
      "924:\tlearn: 0.6020540\ttotal: 1.5s\tremaining: 122ms\n",
      "925:\tlearn: 0.6019763\ttotal: 1.51s\tremaining: 120ms\n",
      "926:\tlearn: 0.6019696\ttotal: 1.51s\tremaining: 119ms\n",
      "927:\tlearn: 0.6019013\ttotal: 1.51s\tremaining: 117ms\n",
      "928:\tlearn: 0.6018717\ttotal: 1.51s\tremaining: 116ms\n",
      "929:\tlearn: 0.6018342\ttotal: 1.51s\tremaining: 114ms\n",
      "930:\tlearn: 0.6017090\ttotal: 1.51s\tremaining: 112ms\n",
      "931:\tlearn: 0.6016163\ttotal: 1.52s\tremaining: 111ms\n",
      "932:\tlearn: 0.6015474\ttotal: 1.52s\tremaining: 109ms\n",
      "933:\tlearn: 0.6015163\ttotal: 1.52s\tremaining: 107ms\n",
      "934:\tlearn: 0.6014962\ttotal: 1.52s\tremaining: 106ms\n",
      "935:\tlearn: 0.6013936\ttotal: 1.52s\tremaining: 104ms\n",
      "936:\tlearn: 0.6013835\ttotal: 1.52s\tremaining: 102ms\n",
      "937:\tlearn: 0.6013037\ttotal: 1.52s\tremaining: 101ms\n",
      "938:\tlearn: 0.6012562\ttotal: 1.53s\tremaining: 99.2ms\n",
      "939:\tlearn: 0.6011696\ttotal: 1.53s\tremaining: 97.5ms\n",
      "940:\tlearn: 0.6011419\ttotal: 1.53s\tremaining: 95.9ms\n",
      "941:\tlearn: 0.6011007\ttotal: 1.53s\tremaining: 94.3ms\n",
      "942:\tlearn: 0.6010357\ttotal: 1.53s\tremaining: 92.7ms\n",
      "943:\tlearn: 0.6009532\ttotal: 1.53s\tremaining: 91.1ms\n",
      "944:\tlearn: 0.6009334\ttotal: 1.54s\tremaining: 89.4ms\n",
      "945:\tlearn: 0.6009026\ttotal: 1.54s\tremaining: 87.8ms\n",
      "946:\tlearn: 0.6008146\ttotal: 1.54s\tremaining: 86.2ms\n",
      "947:\tlearn: 0.6007838\ttotal: 1.54s\tremaining: 84.6ms\n",
      "948:\tlearn: 0.6007122\ttotal: 1.54s\tremaining: 82.9ms\n",
      "949:\tlearn: 0.6006383\ttotal: 1.54s\tremaining: 81.3ms\n",
      "950:\tlearn: 0.6005677\ttotal: 1.55s\tremaining: 79.7ms\n",
      "951:\tlearn: 0.6004973\ttotal: 1.55s\tremaining: 78.1ms\n",
      "952:\tlearn: 0.6004704\ttotal: 1.55s\tremaining: 76.4ms\n",
      "953:\tlearn: 0.6004169\ttotal: 1.55s\tremaining: 74.8ms\n",
      "954:\tlearn: 0.6003443\ttotal: 1.55s\tremaining: 73.2ms\n",
      "955:\tlearn: 0.6003056\ttotal: 1.55s\tremaining: 71.5ms\n",
      "956:\tlearn: 0.6002464\ttotal: 1.55s\tremaining: 69.9ms\n",
      "957:\tlearn: 0.6001325\ttotal: 1.56s\tremaining: 68.3ms\n",
      "958:\tlearn: 0.6001054\ttotal: 1.56s\tremaining: 66.7ms\n",
      "959:\tlearn: 0.6000930\ttotal: 1.56s\tremaining: 65ms\n",
      "960:\tlearn: 0.6000426\ttotal: 1.56s\tremaining: 63.4ms\n",
      "961:\tlearn: 0.5999581\ttotal: 1.56s\tremaining: 61.8ms\n",
      "962:\tlearn: 0.5999049\ttotal: 1.56s\tremaining: 60.2ms\n",
      "963:\tlearn: 0.5998774\ttotal: 1.57s\tremaining: 58.5ms\n",
      "964:\tlearn: 0.5998431\ttotal: 1.57s\tremaining: 56.9ms\n",
      "965:\tlearn: 0.5998040\ttotal: 1.57s\tremaining: 55.3ms\n",
      "966:\tlearn: 0.5997778\ttotal: 1.57s\tremaining: 53.6ms\n",
      "967:\tlearn: 0.5997181\ttotal: 1.57s\tremaining: 52ms\n",
      "968:\tlearn: 0.5996946\ttotal: 1.57s\tremaining: 50.4ms\n",
      "969:\tlearn: 0.5996804\ttotal: 1.58s\tremaining: 48.7ms\n",
      "970:\tlearn: 0.5996579\ttotal: 1.58s\tremaining: 47.1ms\n",
      "971:\tlearn: 0.5995704\ttotal: 1.58s\tremaining: 45.5ms\n",
      "972:\tlearn: 0.5994845\ttotal: 1.58s\tremaining: 43.9ms\n",
      "973:\tlearn: 0.5994322\ttotal: 1.58s\tremaining: 42.2ms\n",
      "974:\tlearn: 0.5993526\ttotal: 1.58s\tremaining: 40.6ms\n",
      "975:\tlearn: 0.5992908\ttotal: 1.58s\tremaining: 39ms\n",
      "976:\tlearn: 0.5992724\ttotal: 1.59s\tremaining: 37.4ms\n",
      "977:\tlearn: 0.5992341\ttotal: 1.59s\tremaining: 35.7ms\n",
      "978:\tlearn: 0.5991761\ttotal: 1.59s\tremaining: 34.1ms\n",
      "979:\tlearn: 0.5991465\ttotal: 1.59s\tremaining: 32.5ms\n",
      "980:\tlearn: 0.5990979\ttotal: 1.59s\tremaining: 30.9ms\n",
      "981:\tlearn: 0.5990378\ttotal: 1.59s\tremaining: 29.2ms\n",
      "982:\tlearn: 0.5989824\ttotal: 1.6s\tremaining: 27.6ms\n",
      "983:\tlearn: 0.5989745\ttotal: 1.6s\tremaining: 26ms\n",
      "984:\tlearn: 0.5988989\ttotal: 1.6s\tremaining: 24.4ms\n",
      "985:\tlearn: 0.5988759\ttotal: 1.6s\tremaining: 22.7ms\n",
      "986:\tlearn: 0.5987703\ttotal: 1.6s\tremaining: 21.1ms\n",
      "987:\tlearn: 0.5987030\ttotal: 1.6s\tremaining: 19.5ms\n",
      "988:\tlearn: 0.5986815\ttotal: 1.6s\tremaining: 17.9ms\n",
      "989:\tlearn: 0.5985889\ttotal: 1.61s\tremaining: 16.2ms\n",
      "990:\tlearn: 0.5984942\ttotal: 1.61s\tremaining: 14.6ms\n",
      "991:\tlearn: 0.5984734\ttotal: 1.61s\tremaining: 13ms\n",
      "992:\tlearn: 0.5984642\ttotal: 1.61s\tremaining: 11.4ms\n",
      "993:\tlearn: 0.5984452\ttotal: 1.61s\tremaining: 9.74ms\n",
      "994:\tlearn: 0.5983661\ttotal: 1.61s\tremaining: 8.12ms\n",
      "995:\tlearn: 0.5983390\ttotal: 1.62s\tremaining: 6.49ms\n",
      "996:\tlearn: 0.5983128\ttotal: 1.62s\tremaining: 4.87ms\n",
      "997:\tlearn: 0.5982861\ttotal: 1.62s\tremaining: 3.25ms\n",
      "998:\tlearn: 0.5982740\ttotal: 1.62s\tremaining: 1.62ms\n",
      "999:\tlearn: 0.5982454\ttotal: 1.62s\tremaining: 0us\n"
     ]
    },
    {
     "data": {
      "text/html": [
       "<div>\n",
       "<style scoped>\n",
       "    .dataframe tbody tr th:only-of-type {\n",
       "        vertical-align: middle;\n",
       "    }\n",
       "\n",
       "    .dataframe tbody tr th {\n",
       "        vertical-align: top;\n",
       "    }\n",
       "\n",
       "    .dataframe thead th {\n",
       "        text-align: right;\n",
       "    }\n",
       "</style>\n",
       "<table border=\"1\" class=\"dataframe\">\n",
       "  <thead>\n",
       "    <tr style=\"text-align: right;\">\n",
       "      <th></th>\n",
       "      <th>Model</th>\n",
       "      <th>Accuracy</th>\n",
       "    </tr>\n",
       "  </thead>\n",
       "  <tbody>\n",
       "    <tr>\n",
       "      <th>0</th>\n",
       "      <td>Logistic Regression</td>\n",
       "      <td>0.642576</td>\n",
       "    </tr>\n",
       "    <tr>\n",
       "      <th>1</th>\n",
       "      <td>Naive Bayes</td>\n",
       "      <td>0.621551</td>\n",
       "    </tr>\n",
       "    <tr>\n",
       "      <th>2</th>\n",
       "      <td>SVM</td>\n",
       "      <td>0.570302</td>\n",
       "    </tr>\n",
       "    <tr>\n",
       "      <th>3</th>\n",
       "      <td>Random Forest</td>\n",
       "      <td>0.642576</td>\n",
       "    </tr>\n",
       "    <tr>\n",
       "      <th>4</th>\n",
       "      <td>Gradient Boosting</td>\n",
       "      <td>0.624179</td>\n",
       "    </tr>\n",
       "    <tr>\n",
       "      <th>5</th>\n",
       "      <td>XGBoost</td>\n",
       "      <td>0.630749</td>\n",
       "    </tr>\n",
       "    <tr>\n",
       "      <th>6</th>\n",
       "      <td>CatBoost</td>\n",
       "      <td>0.634691</td>\n",
       "    </tr>\n",
       "  </tbody>\n",
       "</table>\n",
       "</div>"
      ],
      "text/plain": [
       "                 Model  Accuracy\n",
       "0  Logistic Regression  0.642576\n",
       "1          Naive Bayes  0.621551\n",
       "2                  SVM  0.570302\n",
       "3        Random Forest  0.642576\n",
       "4    Gradient Boosting  0.624179\n",
       "5              XGBoost  0.630749\n",
       "6             CatBoost  0.634691"
      ]
     },
     "execution_count": 23,
     "metadata": {},
     "output_type": "execute_result"
    }
   ],
   "source": [
    "# Model 1: Scikit-learn's Logistic Regression\n",
    "lr = LogisticRegression()\n",
    "lr.fit(x_train, y_train)\n",
    "y_pred = lr.predict(x_test)\n",
    "\n",
    "# Model 2: Scikit-learn's Naive Bayes\n",
    "nb = MultinomialNB()\n",
    "nb.fit(x_train, y_train)\n",
    "y_pred = nb.predict(x_test)\n",
    "\n",
    "# Model 3: Scikit-learn's SVM\n",
    "svm = SVC()\n",
    "svm.fit(x_train, y_train)\n",
    "y_pred = svm.predict(x_test)\n",
    "\n",
    "# Model 4: Scikit-learn's Random Forest\n",
    "rf = RandomForestClassifier()\n",
    "rf.fit(x_train, y_train)\n",
    "y_pred = rf.predict(x_test)\n",
    "\n",
    "# Model 5: Scikit-learn's Gradient Boosting\n",
    "gb = GradientBoostingClassifier()\n",
    "gb.fit(x_train, y_train)\n",
    "y_pred = gb.predict(x_test)\n",
    "\n",
    "# Model 6: Scikit-learn's XGBoost\n",
    "xgb = XGBClassifier()\n",
    "xgb.fit(x_train, y_train)\n",
    "y_pred = xgb.predict(x_test)\n",
    "\n",
    "# Model 8: Scikit-learn's CatBoost\n",
    "cb = CatBoostClassifier()\n",
    "cb.fit(x_train, y_train)\n",
    "y_pred = cb.predict(x_test)\n",
    "\n",
    "# compute the accuracy of the models on the validation set in a dataframe\n",
    "models = ['Logistic Regression', 'Naive Bayes', 'SVM', 'Random Forest', 'Gradient Boosting', 'XGBoost', 'CatBoost']\n",
    "accuracies = [accuracy_score(y_val, lr.predict(x_val)), accuracy_score(y_val, nb.predict(x_val)), accuracy_score(y_val, svm.predict(x_val)), accuracy_score(y_val, rf.predict(x_val)), accuracy_score(y_val, gb.predict(x_val)), accuracy_score(y_val, xgb.predict(x_val)), accuracy_score(y_val, cb.predict(x_val))]\n",
    "pd.DataFrame({'Model': models, 'Accuracy': accuracies})"
   ]
  },
  {
   "cell_type": "code",
   "execution_count": 24,
   "metadata": {},
   "outputs": [
    {
     "name": "stdout",
     "output_type": "stream",
     "text": [
      "Accuracy on validation set: 0.6426 for {'C': 0.001, 'penalty': 'none'}\n",
      "Accuracy on validation set: 0.6426 for {'C': 0.001, 'penalty': 'l2'}\n",
      "Accuracy on validation set: 0.6426 for {'C': 0.01, 'penalty': 'none'}\n",
      "Accuracy on validation set: 0.6426 for {'C': 0.01, 'penalty': 'l2'}\n",
      "Accuracy on validation set: 0.6426 for {'C': 0.1, 'penalty': 'none'}\n",
      "Accuracy on validation set: 0.6426 for {'C': 0.1, 'penalty': 'l2'}\n",
      "Accuracy on validation set: 0.6426 for {'C': 1, 'penalty': 'none'}\n",
      "Accuracy on validation set: 0.6426 for {'C': 1, 'penalty': 'l2'}\n",
      "Accuracy on validation set: 0.6426 for {'C': 10, 'penalty': 'none'}\n",
      "Accuracy on validation set: 0.6426 for {'C': 10, 'penalty': 'l2'}\n",
      "Accuracy on validation set: 0.6426 for {'C': 100, 'penalty': 'none'}\n",
      "Accuracy on validation set: 0.6426 for {'C': 100, 'penalty': 'l2'}\n",
      "Accuracy on validation set: 0.6426 for {'C': 1000, 'penalty': 'none'}\n",
      "Accuracy on validation set: 0.6426 for {'C': 1000, 'penalty': 'l2'}\n"
     ]
    }
   ],
   "source": [
    "# logistic regression grid search, computing accuracy on validation set without cross-validation\n",
    "lr = LogisticRegression()\n",
    "param_grid = {'C': [0.001, 0.01, 0.1, 1, 10, 100, 1000], 'penalty': ['none', 'l2']}\n",
    "for params in ParameterGrid(param_grid):\n",
    "    lr.set_params(**params)\n",
    "    lr.fit(x_train, y_train)\n",
    "    print('Accuracy on validation set: {:.4f} for {}'.format(accuracy_score(y_val, lr.predict(x_val)), params))"
   ]
  },
  {
   "cell_type": "code",
   "execution_count": 25,
   "metadata": {},
   "outputs": [
    {
     "name": "stdout",
     "output_type": "stream",
     "text": [
      "Accuracy on validation set: 0.6216 for {'alpha': 0.001}\n",
      "Accuracy on validation set: 0.6216 for {'alpha': 0.01}\n",
      "Accuracy on validation set: 0.6216 for {'alpha': 0.1}\n",
      "Accuracy on validation set: 0.6216 for {'alpha': 1}\n",
      "Accuracy on validation set: 0.6216 for {'alpha': 10}\n",
      "Accuracy on validation set: 0.6216 for {'alpha': 100}\n",
      "Accuracy on validation set: 0.6216 for {'alpha': 1000}\n"
     ]
    }
   ],
   "source": [
    "# naive bayes grid search, computing accuracy on validation set\n",
    "nb = MultinomialNB()    \n",
    "param_grid = {'alpha': [0.001, 0.01, 0.1, 1, 10, 100, 1000]}\n",
    "for params in ParameterGrid(param_grid):\n",
    "    nb.set_params(**params)\n",
    "    nb.fit(x_train, y_train)\n",
    "    print('Accuracy on validation set: {:.4f} for {}'.format(accuracy_score(y_val, nb.predict(x_val)), params))"
   ]
  },
  {
   "cell_type": "code",
   "execution_count": 26,
   "metadata": {},
   "outputs": [
    {
     "name": "stdout",
     "output_type": "stream",
     "text": [
      "Accuracy on validation set: 0.5703 for {'learning_rate': 0.001, 'n_estimators': 10}\n",
      "Accuracy on validation set: 0.5703 for {'learning_rate': 0.001, 'n_estimators': 50}\n",
      "Accuracy on validation set: 0.5703 for {'learning_rate': 0.001, 'n_estimators': 100}\n",
      "Accuracy on validation set: 0.5703 for {'learning_rate': 0.001, 'n_estimators': 200}\n",
      "Accuracy on validation set: 0.5716 for {'learning_rate': 0.001, 'n_estimators': 500}\n",
      "Accuracy on validation set: 0.5795 for {'learning_rate': 0.001, 'n_estimators': 1000}\n",
      "Accuracy on validation set: 0.5703 for {'learning_rate': 0.01, 'n_estimators': 10}\n",
      "Accuracy on validation set: 0.5716 for {'learning_rate': 0.01, 'n_estimators': 50}\n",
      "Accuracy on validation set: 0.5769 for {'learning_rate': 0.01, 'n_estimators': 100}\n",
      "Accuracy on validation set: 0.5900 for {'learning_rate': 0.01, 'n_estimators': 200}\n",
      "Accuracy on validation set: 0.6005 for {'learning_rate': 0.01, 'n_estimators': 500}\n",
      "Accuracy on validation set: 0.6202 for {'learning_rate': 0.01, 'n_estimators': 1000}\n",
      "Accuracy on validation set: 0.5834 for {'learning_rate': 0.1, 'n_estimators': 10}\n",
      "Accuracy on validation set: 0.6005 for {'learning_rate': 0.1, 'n_estimators': 50}\n",
      "Accuracy on validation set: 0.6242 for {'learning_rate': 0.1, 'n_estimators': 100}\n",
      "Accuracy on validation set: 0.6347 for {'learning_rate': 0.1, 'n_estimators': 200}\n",
      "Accuracy on validation set: 0.6268 for {'learning_rate': 0.1, 'n_estimators': 500}\n",
      "Accuracy on validation set: 0.6531 for {'learning_rate': 0.1, 'n_estimators': 1000}\n",
      "Accuracy on validation set: 0.5861 for {'learning_rate': 1, 'n_estimators': 10}\n",
      "Accuracy on validation set: 0.6189 for {'learning_rate': 1, 'n_estimators': 50}\n",
      "Accuracy on validation set: 0.6110 for {'learning_rate': 1, 'n_estimators': 100}\n",
      "Accuracy on validation set: 0.6110 for {'learning_rate': 1, 'n_estimators': 200}\n",
      "Accuracy on validation set: 0.6176 for {'learning_rate': 1, 'n_estimators': 500}\n",
      "Accuracy on validation set: 0.6268 for {'learning_rate': 1, 'n_estimators': 1000}\n",
      "Accuracy on validation set: 0.4297 for {'learning_rate': 10, 'n_estimators': 10}\n",
      "Accuracy on validation set: 0.4297 for {'learning_rate': 10, 'n_estimators': 50}\n",
      "Accuracy on validation set: 0.4297 for {'learning_rate': 10, 'n_estimators': 100}\n",
      "Accuracy on validation set: 0.4297 for {'learning_rate': 10, 'n_estimators': 200}\n",
      "Accuracy on validation set: 0.4297 for {'learning_rate': 10, 'n_estimators': 500}\n",
      "Accuracy on validation set: 0.4297 for {'learning_rate': 10, 'n_estimators': 1000}\n",
      "Accuracy on validation set: 0.4967 for {'learning_rate': 100, 'n_estimators': 10}\n",
      "Accuracy on validation set: 0.4967 for {'learning_rate': 100, 'n_estimators': 50}\n",
      "Accuracy on validation set: 0.4967 for {'learning_rate': 100, 'n_estimators': 100}\n",
      "Accuracy on validation set: 0.4967 for {'learning_rate': 100, 'n_estimators': 200}\n",
      "Accuracy on validation set: 0.4967 for {'learning_rate': 100, 'n_estimators': 500}\n",
      "Accuracy on validation set: 0.4967 for {'learning_rate': 100, 'n_estimators': 1000}\n",
      "Accuracy on validation set: 0.5177 for {'learning_rate': 1000, 'n_estimators': 10}\n",
      "Accuracy on validation set: 0.5177 for {'learning_rate': 1000, 'n_estimators': 50}\n",
      "Accuracy on validation set: 0.5177 for {'learning_rate': 1000, 'n_estimators': 100}\n",
      "Accuracy on validation set: 0.5177 for {'learning_rate': 1000, 'n_estimators': 200}\n",
      "Accuracy on validation set: 0.5177 for {'learning_rate': 1000, 'n_estimators': 500}\n",
      "Accuracy on validation set: 0.5177 for {'learning_rate': 1000, 'n_estimators': 1000}\n"
     ]
    }
   ],
   "source": [
    "# gradient boosting grid search, computing accuracy on validation set\n",
    "gb = GradientBoostingClassifier()\n",
    "param_grid = {'learning_rate': [0.001, 0.01, 0.1, 1, 10, 100, 1000], 'n_estimators': [10, 50, 100, 200, 500, 1000]}\n",
    "for params in ParameterGrid(param_grid):\n",
    "    gb.set_params(**params)\n",
    "    gb.fit(x_train, y_train)\n",
    "    print('Accuracy on validation set: {:.4f} for {}'.format(accuracy_score(y_val, gb.predict(x_val)), params))\n"
   ]
  },
  {
   "cell_type": "code",
   "execution_count": 27,
   "metadata": {},
   "outputs": [
    {
     "name": "stdout",
     "output_type": "stream",
     "text": [
      "Accuracy on validation set: 0.5861 for {'learning_rate': 0.001, 'n_estimators': 10}\n",
      "Accuracy on validation set: 0.5808 for {'learning_rate': 0.001, 'n_estimators': 50}\n",
      "Accuracy on validation set: 0.5979 for {'learning_rate': 0.001, 'n_estimators': 100}\n",
      "Accuracy on validation set: 0.6005 for {'learning_rate': 0.001, 'n_estimators': 200}\n",
      "Accuracy on validation set: 0.5940 for {'learning_rate': 0.001, 'n_estimators': 500}\n",
      "Accuracy on validation set: 0.6137 for {'learning_rate': 0.001, 'n_estimators': 1000}\n",
      "Accuracy on validation set: 0.5926 for {'learning_rate': 0.01, 'n_estimators': 10}\n",
      "Accuracy on validation set: 0.5940 for {'learning_rate': 0.01, 'n_estimators': 50}\n",
      "Accuracy on validation set: 0.6124 for {'learning_rate': 0.01, 'n_estimators': 100}\n",
      "Accuracy on validation set: 0.6163 for {'learning_rate': 0.01, 'n_estimators': 200}\n",
      "Accuracy on validation set: 0.6426 for {'learning_rate': 0.01, 'n_estimators': 500}\n",
      "Accuracy on validation set: 0.6413 for {'learning_rate': 0.01, 'n_estimators': 1000}\n",
      "Accuracy on validation set: 0.6071 for {'learning_rate': 0.1, 'n_estimators': 10}\n",
      "Accuracy on validation set: 0.6373 for {'learning_rate': 0.1, 'n_estimators': 50}\n",
      "Accuracy on validation set: 0.6334 for {'learning_rate': 0.1, 'n_estimators': 100}\n",
      "Accuracy on validation set: 0.6386 for {'learning_rate': 0.1, 'n_estimators': 200}\n",
      "Accuracy on validation set: 0.6373 for {'learning_rate': 0.1, 'n_estimators': 500}\n",
      "Accuracy on validation set: 0.6439 for {'learning_rate': 0.1, 'n_estimators': 1000}\n",
      "Accuracy on validation set: 0.6097 for {'learning_rate': 1, 'n_estimators': 10}\n",
      "Accuracy on validation set: 0.6334 for {'learning_rate': 1, 'n_estimators': 50}\n",
      "Accuracy on validation set: 0.6413 for {'learning_rate': 1, 'n_estimators': 100}\n",
      "Accuracy on validation set: 0.6373 for {'learning_rate': 1, 'n_estimators': 200}\n",
      "Accuracy on validation set: 0.6321 for {'learning_rate': 1, 'n_estimators': 500}\n",
      "Accuracy on validation set: 0.6347 for {'learning_rate': 1, 'n_estimators': 1000}\n",
      "Accuracy on validation set: 0.5703 for {'learning_rate': 10, 'n_estimators': 10}\n",
      "Accuracy on validation set: 0.5703 for {'learning_rate': 10, 'n_estimators': 50}\n",
      "Accuracy on validation set: 0.5703 for {'learning_rate': 10, 'n_estimators': 100}\n",
      "Accuracy on validation set: 0.5703 for {'learning_rate': 10, 'n_estimators': 200}\n",
      "Accuracy on validation set: 0.5703 for {'learning_rate': 10, 'n_estimators': 500}\n",
      "Accuracy on validation set: 0.5703 for {'learning_rate': 10, 'n_estimators': 1000}\n",
      "Accuracy on validation set: 0.4297 for {'learning_rate': 100, 'n_estimators': 10}\n",
      "Accuracy on validation set: 0.4297 for {'learning_rate': 100, 'n_estimators': 50}\n",
      "Accuracy on validation set: 0.4297 for {'learning_rate': 100, 'n_estimators': 100}\n",
      "Accuracy on validation set: 0.4297 for {'learning_rate': 100, 'n_estimators': 200}\n",
      "Accuracy on validation set: 0.4297 for {'learning_rate': 100, 'n_estimators': 500}\n",
      "Accuracy on validation set: 0.4297 for {'learning_rate': 100, 'n_estimators': 1000}\n",
      "Accuracy on validation set: 0.4297 for {'learning_rate': 1000, 'n_estimators': 10}\n",
      "Accuracy on validation set: 0.4297 for {'learning_rate': 1000, 'n_estimators': 50}\n",
      "Accuracy on validation set: 0.4297 for {'learning_rate': 1000, 'n_estimators': 100}\n",
      "Accuracy on validation set: 0.4297 for {'learning_rate': 1000, 'n_estimators': 200}\n",
      "Accuracy on validation set: 0.4297 for {'learning_rate': 1000, 'n_estimators': 500}\n",
      "Accuracy on validation set: 0.4297 for {'learning_rate': 1000, 'n_estimators': 1000}\n"
     ]
    }
   ],
   "source": [
    "# xgboost grid search, computing accuracy on validation set\n",
    "xgb = XGBClassifier()\n",
    "param_grid = {'learning_rate': [0.001, 0.01, 0.1, 1, 10, 100, 1000], 'n_estimators': [10, 50, 100, 200, 500, 1000]}\n",
    "for params in ParameterGrid(param_grid):\n",
    "    xgb.set_params(**params)\n",
    "    xgb.fit(x_train, y_train)\n",
    "    print('Accuracy on validation set: {:.4f} for {}'.format(accuracy_score(y_val, xgb.predict(x_val)), params))"
   ]
  },
  {
   "cell_type": "code",
   "execution_count": 28,
   "metadata": {},
   "outputs": [
    {
     "name": "stdout",
     "output_type": "stream",
     "text": [
      "Accuracy on validation set: 0.5703 for {'max_depth': 2, 'n_estimators': 10}\n",
      "Accuracy on validation set: 0.5703 for {'max_depth': 2, 'n_estimators': 50}\n",
      "Accuracy on validation set: 0.5742 for {'max_depth': 2, 'n_estimators': 100}\n",
      "Accuracy on validation set: 0.5729 for {'max_depth': 2, 'n_estimators': 200}\n",
      "Accuracy on validation set: 0.5729 for {'max_depth': 2, 'n_estimators': 500}\n",
      "Accuracy on validation set: 0.5769 for {'max_depth': 3, 'n_estimators': 10}\n",
      "Accuracy on validation set: 0.5834 for {'max_depth': 3, 'n_estimators': 50}\n",
      "Accuracy on validation set: 0.5834 for {'max_depth': 3, 'n_estimators': 100}\n",
      "Accuracy on validation set: 0.5848 for {'max_depth': 3, 'n_estimators': 200}\n",
      "Accuracy on validation set: 0.5887 for {'max_depth': 3, 'n_estimators': 500}\n",
      "Accuracy on validation set: 0.5874 for {'max_depth': 4, 'n_estimators': 10}\n",
      "Accuracy on validation set: 0.5874 for {'max_depth': 4, 'n_estimators': 50}\n",
      "Accuracy on validation set: 0.5861 for {'max_depth': 4, 'n_estimators': 100}\n",
      "Accuracy on validation set: 0.5887 for {'max_depth': 4, 'n_estimators': 200}\n",
      "Accuracy on validation set: 0.5926 for {'max_depth': 4, 'n_estimators': 500}\n",
      "Accuracy on validation set: 0.6124 for {'max_depth': 5, 'n_estimators': 10}\n",
      "Accuracy on validation set: 0.6071 for {'max_depth': 5, 'n_estimators': 50}\n",
      "Accuracy on validation set: 0.5966 for {'max_depth': 5, 'n_estimators': 100}\n",
      "Accuracy on validation set: 0.5940 for {'max_depth': 5, 'n_estimators': 200}\n",
      "Accuracy on validation set: 0.5940 for {'max_depth': 5, 'n_estimators': 500}\n",
      "Accuracy on validation set: 0.5979 for {'max_depth': 6, 'n_estimators': 10}\n",
      "Accuracy on validation set: 0.6163 for {'max_depth': 6, 'n_estimators': 50}\n",
      "Accuracy on validation set: 0.6084 for {'max_depth': 6, 'n_estimators': 100}\n",
      "Accuracy on validation set: 0.6045 for {'max_depth': 6, 'n_estimators': 200}\n",
      "Accuracy on validation set: 0.6045 for {'max_depth': 6, 'n_estimators': 500}\n",
      "Accuracy on validation set: 0.5887 for {'max_depth': 7, 'n_estimators': 10}\n",
      "Accuracy on validation set: 0.6242 for {'max_depth': 7, 'n_estimators': 50}\n",
      "Accuracy on validation set: 0.6163 for {'max_depth': 7, 'n_estimators': 100}\n",
      "Accuracy on validation set: 0.6150 for {'max_depth': 7, 'n_estimators': 200}\n",
      "Accuracy on validation set: 0.6255 for {'max_depth': 7, 'n_estimators': 500}\n",
      "Accuracy on validation set: 0.6176 for {'max_depth': 8, 'n_estimators': 10}\n",
      "Accuracy on validation set: 0.6386 for {'max_depth': 8, 'n_estimators': 50}\n",
      "Accuracy on validation set: 0.6255 for {'max_depth': 8, 'n_estimators': 100}\n",
      "Accuracy on validation set: 0.6255 for {'max_depth': 8, 'n_estimators': 200}\n",
      "Accuracy on validation set: 0.6294 for {'max_depth': 8, 'n_estimators': 500}\n",
      "Accuracy on validation set: 0.6176 for {'max_depth': 9, 'n_estimators': 10}\n",
      "Accuracy on validation set: 0.6163 for {'max_depth': 9, 'n_estimators': 50}\n",
      "Accuracy on validation set: 0.6281 for {'max_depth': 9, 'n_estimators': 100}\n",
      "Accuracy on validation set: 0.6281 for {'max_depth': 9, 'n_estimators': 200}\n",
      "Accuracy on validation set: 0.6189 for {'max_depth': 9, 'n_estimators': 500}\n",
      "Accuracy on validation set: 0.6216 for {'max_depth': 10, 'n_estimators': 10}\n",
      "Accuracy on validation set: 0.6189 for {'max_depth': 10, 'n_estimators': 50}\n",
      "Accuracy on validation set: 0.6307 for {'max_depth': 10, 'n_estimators': 100}\n",
      "Accuracy on validation set: 0.6281 for {'max_depth': 10, 'n_estimators': 200}\n",
      "Accuracy on validation set: 0.6294 for {'max_depth': 10, 'n_estimators': 500}\n"
     ]
    }
   ],
   "source": [
    "# random forest grid search, computing accuracy on validation set \n",
    "rf = RandomForestClassifier()\n",
    "param_grid = {'n_estimators': [10, 50, 100, 200, 500], 'max_depth': [2, 3, 4, 5, 6, 7, 8, 9, 10]}\n",
    "for params in ParameterGrid(param_grid):\n",
    "    rf.set_params(**params)\n",
    "    rf.fit(x_train, y_train)\n",
    "    print('Accuracy on validation set: {:.4f} for {}'.format(accuracy_score(y_val, rf.predict(x_val)), params))"
   ]
  },
  {
   "attachments": {},
   "cell_type": "markdown",
   "metadata": {},
   "source": [
    "- the best built-in model seems to be the baseline random forest classifier"
   ]
  },
  {
   "cell_type": "code",
   "execution_count": 29,
   "metadata": {},
   "outputs": [
    {
     "name": "stdout",
     "output_type": "stream",
     "text": [
      "Accuracy on test set: 0.6562\n"
     ]
    }
   ],
   "source": [
    "# training the best built-in model on training and validation set and computing accuracy on test set\n",
    "# the best built-in model seems to be the baseline random forest classifier\n",
    "\n",
    "best_built_in_model = RandomForestClassifier()\n",
    "best_built_in_model.fit(np.concatenate((x_train, x_val)), np.concatenate((y_train, y_val)))\n",
    "print('Accuracy on test set: {:.4f}'.format(accuracy_score(y_test, best_built_in_model.predict(x_test))))"
   ]
  },
  {
   "attachments": {},
   "cell_type": "markdown",
   "metadata": {},
   "source": [
    "65.62 % is the best accuracy we reached on a built-in model, let's try out manual logistic regression models byy implementing log_loss gradient descent and manual naive bayes classifier"
   ]
  },
  {
   "attachments": {},
   "cell_type": "markdown",
   "metadata": {},
   "source": [
    "## Manual models"
   ]
  },
  {
   "cell_type": "code",
   "execution_count": 32,
   "metadata": {},
   "outputs": [],
   "source": [
    "# implementing manual naive bayes model\n",
    "\n",
    "# building frequency dictionary using train_df\n",
    "freqs = build_freqs(train_df['text'], train_df['target'])\n",
    "\n",
    "# computing log prior\n",
    "log_prior = np.log(len(train_df[train_df['target'] == 1]) / len(train_df[train_df['target'] == 0]))\n",
    "\n",
    "# computing log likelihood using laplace smoothing\n",
    "def compute_log_likelihood(freqs, word, label):\n",
    "    n = freqs.get((word, label), 0)\n",
    "    d = sum([freqs.get((word, label), 0) for label in [0, 1]])\n",
    "    return np.log((n + 1) / (d + 2))\n",
    "\n",
    "# computing log likelihood for each word in the vocabulary\n",
    "def compute_log_likelihoods(freqs):\n",
    "    log_likelihoods = {}\n",
    "    for word in freqs.keys():\n",
    "        log_likelihoods[word] = compute_log_likelihood(freqs, word[0], word[1])\n",
    "    return log_likelihoods\n",
    "\n",
    "log_likelihoods = compute_log_likelihoods(freqs)\n",
    "\n",
    "# implementing naive bayes classifier\n",
    "def naive_bayes_predict(tweet, log_prior, log_likelihoods):\n",
    "    word_l = process_tweet(tweet)\n",
    "    p = 0\n",
    "    p += log_prior\n",
    "    for word in word_l:\n",
    "        if (word, 1) in log_likelihoods:\n",
    "            p += log_likelihoods[(word, 1)]\n",
    "        if (word, 0) in log_likelihoods:\n",
    "            p -= log_likelihoods[(word, 0)]\n",
    "    return p"
   ]
  },
  {
   "cell_type": "code",
   "execution_count": 34,
   "metadata": {},
   "outputs": [
    {
     "name": "stdout",
     "output_type": "stream",
     "text": [
      "Accuracy on validation set: 0.5716\n"
     ]
    }
   ],
   "source": [
    "# testing naive bayes classifier on validation set\n",
    "y_val_pred = []\n",
    "for tweet in val_df['text']:\n",
    "    if naive_bayes_predict(tweet, log_prior, log_likelihoods) > 0:\n",
    "        y_val_pred.append(1)\n",
    "    else:\n",
    "        y_val_pred.append(0)\n",
    "print('Accuracy on validation set: {:.4f}'.format(accuracy_score(val_df['target'], y_val_pred)))"
   ]
  },
  {
   "cell_type": "code",
   "execution_count": 35,
   "metadata": {},
   "outputs": [],
   "source": [
    "# implementing manual batch gradient descent logistic regression model\n",
    "\n",
    "# implementing sigmoid function\n",
    "def sigmoid(z):\n",
    "    h = 1 / (1 + np.exp(-z))\n",
    "    return h\n",
    "\n",
    "def log_loss(y, y_hat):\n",
    "    m = y.shape[0]\n",
    "    cost = -(1 / m) * (np.dot(y.T, np.log(y_hat)) + np.dot((1 - y).T, np.log(1 - y_hat)))\n",
    "    return cost\n",
    "\n",
    "def batch_gradient_descent(x, y, alpha, learning_rate, num_iter):\n",
    "    m = x.shape[0]\n",
    "    y = np.array(y).reshape(-1, 1)\n",
    "    theta = np.zeros((x.shape[1], 1))\n",
    "    for i in range(num_iter):\n",
    "        z = x @ alpha\n",
    "        h = sigmoid(z)\n",
    "        cost = log_loss(y, h)\n",
    "        gradient = (1 / m) * x.T @ np.subtract(h, y)\n",
    "        alpha = alpha - learning_rate * gradient\n",
    "    return alpha"
   ]
  },
  {
   "cell_type": "code",
   "execution_count": 36,
   "metadata": {},
   "outputs": [
    {
     "data": {
      "text/plain": [
       "array([[-2.76413793e-01],\n",
       "       [ 5.13691514e+03],\n",
       "       [-4.86944262e+03]])"
      ]
     },
     "execution_count": 36,
     "metadata": {},
     "output_type": "execute_result"
    }
   ],
   "source": [
    "# Training the model and getting the optimal alpha\n",
    "alpha = np.zeros((x_train.shape[1], 1))\n",
    "learning_rate = 0.01\n",
    "num_iter = 1000\n",
    "optimal_alpha = batch_gradient_descent(x_train, y_train, alpha, learning_rate, num_iter)\n",
    "optimal_alpha"
   ]
  },
  {
   "cell_type": "code",
   "execution_count": 37,
   "metadata": {},
   "outputs": [
    {
     "data": {
      "text/plain": [
       "0.5703022339027596"
      ]
     },
     "execution_count": 37,
     "metadata": {},
     "output_type": "execute_result"
    }
   ],
   "source": [
    "# Predicting on validation set\n",
    "pre_results = sigmoid(x_val @ optimal_alpha)\n",
    "y_pred = np.where(pre_results > 0.5, 1, 0)\n",
    "\n",
    "# Computing accuracy\n",
    "accuracy_score(y_val, y_pred)"
   ]
  },
  {
   "cell_type": "code",
   "execution_count": 39,
   "metadata": {},
   "outputs": [
    {
     "name": "stdout",
     "output_type": "stream",
     "text": [
      "Accuracy on validation set: 0.4297 for learning rate: 0.01 and number of iterations: 100\n",
      "Accuracy on validation set: 0.4297 for learning rate: 0.01 and number of iterations: 500\n",
      "Accuracy on validation set: 0.5703 for learning rate: 0.01 and number of iterations: 1000\n",
      "Accuracy on validation set: 0.4415 for learning rate: 0.01 and number of iterations: 5000\n",
      "Accuracy on validation set: 0.5151 for learning rate: 0.01 and number of iterations: 10000\n",
      "Accuracy on validation set: 0.4297 for learning rate: 0.05 and number of iterations: 100\n",
      "Accuracy on validation set: 0.4297 for learning rate: 0.05 and number of iterations: 500\n",
      "Accuracy on validation set: 0.5703 for learning rate: 0.05 and number of iterations: 1000\n",
      "Accuracy on validation set: 0.4415 for learning rate: 0.05 and number of iterations: 5000\n",
      "Accuracy on validation set: 0.5151 for learning rate: 0.05 and number of iterations: 10000\n",
      "Accuracy on validation set: 0.4297 for learning rate: 0.1 and number of iterations: 100\n",
      "Accuracy on validation set: 0.4297 for learning rate: 0.1 and number of iterations: 500\n",
      "Accuracy on validation set: 0.5703 for learning rate: 0.1 and number of iterations: 1000\n",
      "Accuracy on validation set: 0.4415 for learning rate: 0.1 and number of iterations: 5000\n",
      "Accuracy on validation set: 0.5151 for learning rate: 0.1 and number of iterations: 10000\n",
      "Accuracy on validation set: 0.4297 for learning rate: 0.5 and number of iterations: 100\n",
      "Accuracy on validation set: 0.4297 for learning rate: 0.5 and number of iterations: 500\n",
      "Accuracy on validation set: 0.5703 for learning rate: 0.5 and number of iterations: 1000\n",
      "Accuracy on validation set: 0.4415 for learning rate: 0.5 and number of iterations: 5000\n",
      "Accuracy on validation set: 0.5151 for learning rate: 0.5 and number of iterations: 10000\n",
      "Accuracy on validation set: 0.4297 for learning rate: 1 and number of iterations: 100\n",
      "Accuracy on validation set: 0.4297 for learning rate: 1 and number of iterations: 500\n",
      "Accuracy on validation set: 0.5703 for learning rate: 1 and number of iterations: 1000\n",
      "Accuracy on validation set: 0.4415 for learning rate: 1 and number of iterations: 5000\n",
      "Accuracy on validation set: 0.5151 for learning rate: 1 and number of iterations: 10000\n"
     ]
    }
   ],
   "source": [
    "# running grid search on learning rate and number of iterations\n",
    "learning_rates = [0.01, 0.05, 0.1, 0.5, 1]\n",
    "num_iters = [100, 500, 1000, 5000, 10000]\n",
    "for learning_rate in learning_rates:\n",
    "    for num_iter in num_iters:\n",
    "        alpha = np.zeros((x_train.shape[1], 1))\n",
    "        optimal_alpha = batch_gradient_descent(x_train, y_train, alpha, learning_rate, num_iter)\n",
    "        pre_results = sigmoid(x_val @ optimal_alpha)\n",
    "        y_pred = np.where(pre_results > 0.5, 1, 0)\n",
    "        print('Accuracy on validation set: {:.4f} for learning rate: {} and number of iterations: {}'.format(accuracy_score(y_val, y_pred), learning_rate, num_iter))"
   ]
  },
  {
   "cell_type": "code",
   "execution_count": 38,
   "metadata": {},
   "outputs": [
    {
     "name": "stdout",
     "output_type": "stream",
     "text": [
      "Accuracy on test set: 0.5709\n"
     ]
    }
   ],
   "source": [
    "# training naive bayes model on training and validation set and computing accuracy on test set\n",
    "y_test_pred = []\n",
    "for tweet in test_df['text']:\n",
    "    if naive_bayes_predict(tweet, log_prior, log_likelihoods) > 0:\n",
    "        y_test_pred.append(1)\n",
    "    else:\n",
    "        y_test_pred.append(0)\n",
    "print('Accuracy on test set: {:.4f}'.format(accuracy_score(test_df['target'], y_test_pred)))"
   ]
  },
  {
   "attachments": {},
   "cell_type": "markdown",
   "metadata": {},
   "source": [
    "# Conclusion: the best model was the baseline built-in random forest classifier with a 65,62% accuracy"
   ]
  }
 ],
 "metadata": {
  "kernelspec": {
   "display_name": "Python 3",
   "language": "python",
   "name": "python3"
  },
  "language_info": {
   "codemirror_mode": {
    "name": "ipython",
    "version": 3
   },
   "file_extension": ".py",
   "mimetype": "text/x-python",
   "name": "python",
   "nbconvert_exporter": "python",
   "pygments_lexer": "ipython3",
   "version": "3.8.1"
  },
  "orig_nbformat": 4,
  "vscode": {
   "interpreter": {
    "hash": "aee8b7b246df8f9039afb4144a1f6fd8d2ca17a180786b69acc140d282b71a49"
   }
  }
 },
 "nbformat": 4,
 "nbformat_minor": 2
}
